{
 "cells": [
  {
   "cell_type": "markdown",
   "metadata": {},
   "source": [
    "# WeatherPy\n",
    "----\n",
    "\n",
    "### Analysis\n",
    "* As expected, the weather becomes significantly warmer as one approaches the equator (0 Deg. Latitude). More interestingly, however, is the fact that the southern hemisphere tends to be warmer this time of year than the northern hemisphere. This may be due to the tilt of the earth.\n",
    "* There is no strong relationship between latitude and cloudiness. However, it is interesting to see that a strong band of cities sits at 0, 80, and 100% cloudiness.\n",
    "* There is no strong relationship between latitude and wind speed. However, in northern hemispheres there is a flurry of cities with over 20 mph of wind.\n",
    "\n",
    "---\n",
    "\n",
    "#### Note\n",
    "* Instructions have been included for each segment. You do not have to follow them exactly, but they are included to help you think through the steps."
   ]
  },
  {
   "cell_type": "code",
   "execution_count": 37,
   "metadata": {
    "scrolled": true
   },
   "outputs": [],
   "source": [
    "# Dependencies and Setup\n",
    "import matplotlib.pyplot as plt\n",
    "import pandas as pd\n",
    "import numpy as np\n",
    "import requests\n",
    "import time\n",
    "import json\n",
    "\n",
    "# Import API key\n",
    "from api_keys import myKey\n",
    "\n",
    "# Incorporated citipy to determine city based on latitude and longitude\n",
    "from citipy import citipy\n",
    "\n",
    "# Output File (CSV)\n",
    "output_data_file = \"output_data/cities.csv\"\n",
    "\n",
    "# Range of latitudes and longitudes\n",
    "lat_range = (-90, 90)\n",
    "lng_range = (-180, 180)"
   ]
  },
  {
   "cell_type": "markdown",
   "metadata": {},
   "source": [
    "## Generate Cities List"
   ]
  },
  {
   "cell_type": "code",
   "execution_count": 2,
   "metadata": {},
   "outputs": [
    {
     "data": {
      "text/plain": [
       "589"
      ]
     },
     "execution_count": 2,
     "metadata": {},
     "output_type": "execute_result"
    }
   ],
   "source": [
    "# List for holding lat_lngs and cities\n",
    "lat_lngs = []\n",
    "cities = []\n",
    "countries = []\n",
    "\n",
    "# Create a set of random lat and lng combinations\n",
    "lats = np.random.uniform(low=-90.000, high=90.000, size=1500)  \n",
    "lngs = np.random.uniform(low=-180.000, high=180.000, size=1500)\n",
    "lat_lngs = zip(lats, lngs)\n",
    "#uniform is to have the numbers evenly distributed\n",
    "#size is how many random numbers will be generated.\n",
    "#we are saying, generate 1500 random evenly distributed numbers between -90 and 90.\n",
    "\n",
    "# Identify nearest city for each lat, lng combination\n",
    "for each in lat_lngs:\n",
    "    city = citipy.nearest_city(each[0], each[1]).city_name \n",
    "    country = citipy.nearest_city(each[0], each[1]).country_code \n",
    "    \n",
    "    # If the city is unique, then add it to a our cities list\n",
    "    if city not in cities:\n",
    "        cities.append(city)\n",
    "        countries.append(country)\n",
    "\n",
    "# Print the city count to confirm sufficient count\n",
    "len(cities)\n",
    "\n",
    "#612 cites are returned.   There must be at least 500 on the next part of finding the weather.  If not, then must come back to this step and increase size."
   ]
  },
  {
   "cell_type": "code",
   "execution_count": 3,
   "metadata": {},
   "outputs": [
    {
     "data": {
      "text/plain": [
       "589"
      ]
     },
     "execution_count": 3,
     "metadata": {},
     "output_type": "execute_result"
    }
   ],
   "source": [
    "len(countries)"
   ]
  },
  {
   "cell_type": "code",
   "execution_count": 4,
   "metadata": {},
   "outputs": [
    {
     "name": "stdout",
     "output_type": "stream",
     "text": [
      "<zip object at 0x0000024FC656A748>\n"
     ]
    }
   ],
   "source": [
    "#??  how do I see the ln_lngs list?\n",
    "print(lat_lngs)"
   ]
  },
  {
   "cell_type": "code",
   "execution_count": 5,
   "metadata": {},
   "outputs": [
    {
     "name": "stdout",
     "output_type": "stream",
     "text": [
      "[  70.31702327  -47.13330494   83.70620553 ...  127.85508736 -135.46144258\n",
      "  -21.92338739]\n"
     ]
    }
   ],
   "source": [
    "print(lngs)"
   ]
  },
  {
   "cell_type": "code",
   "execution_count": 6,
   "metadata": {},
   "outputs": [],
   "source": [
    "#"
   ]
  },
  {
   "cell_type": "markdown",
   "metadata": {},
   "source": [
    "### Perform API Calls\n",
    "* Perform a weather check on each city using a series of successive API calls.\n",
    "* Include a print log of each city as it'sbeing processed (with the city number and city name).\n"
   ]
  },
  {
   "cell_type": "code",
   "execution_count": 7,
   "metadata": {},
   "outputs": [],
   "source": [
    "#first, perform a check on a single city."
   ]
  },
  {
   "cell_type": "code",
   "execution_count": 8,
   "metadata": {},
   "outputs": [
    {
     "name": "stdout",
     "output_type": "stream",
     "text": [
      "http://api.openweathermap.org/data/2.5/weather?appid=8bea25d5e18b7c2fb2ee3ac12cec5dad&q=alofi&units=imperial\n"
     ]
    }
   ],
   "source": [
    "url = \"http://api.openweathermap.org/data/2.5/weather?\"\n",
    "city = \"alofi\"\n",
    "units = \"imperial\"\n",
    "\n",
    "# Build query URL\n",
    "query_url = url + \"appid=\" + myKey + \"&q=\" + city + \"&units=imperial\"\n",
    "#note:   adding imperial units will return the temperature in farenheight and the wind speed in miles per hour\n",
    "print(query_url)"
   ]
  },
  {
   "cell_type": "code",
   "execution_count": 9,
   "metadata": {},
   "outputs": [],
   "source": [
    "# Get weather data\n",
    "weather_response = requests.get(query_url)\n",
    "weather_json = weather_response.json()\n"
   ]
  },
  {
   "cell_type": "code",
   "execution_count": 10,
   "metadata": {},
   "outputs": [
    {
     "name": "stdout",
     "output_type": "stream",
     "text": [
      "{\n",
      "    \"base\": \"stations\",\n",
      "    \"clouds\": {\n",
      "        \"all\": 44\n",
      "    },\n",
      "    \"cod\": 200,\n",
      "    \"coord\": {\n",
      "        \"lat\": -19.06,\n",
      "        \"lon\": -169.92\n",
      "    },\n",
      "    \"dt\": 1554048000,\n",
      "    \"id\": 4036284,\n",
      "    \"main\": {\n",
      "        \"humidity\": 94,\n",
      "        \"pressure\": 1009,\n",
      "        \"temp\": 78.8,\n",
      "        \"temp_max\": 78.8,\n",
      "        \"temp_min\": 78.8\n",
      "    },\n",
      "    \"name\": \"Alofi\",\n",
      "    \"rain\": {\n",
      "        \"3h\": 0.142\n",
      "    },\n",
      "    \"sys\": {\n",
      "        \"country\": \"NU\",\n",
      "        \"id\": 7306,\n",
      "        \"message\": 0.0036,\n",
      "        \"sunrise\": 1554053160,\n",
      "        \"sunset\": 1554096080,\n",
      "        \"type\": 1\n",
      "    },\n",
      "    \"weather\": [\n",
      "        {\n",
      "            \"description\": \"light rain\",\n",
      "            \"icon\": \"10n\",\n",
      "            \"id\": 500,\n",
      "            \"main\": \"Rain\"\n",
      "        }\n",
      "    ],\n",
      "    \"wind\": {\n",
      "        \"deg\": 290,\n",
      "        \"speed\": 5.82\n",
      "    }\n",
      "}\n"
     ]
    }
   ],
   "source": [
    "print(json.dumps(weather_json, indent=4, sort_keys=True))"
   ]
  },
  {
   "cell_type": "code",
   "execution_count": 11,
   "metadata": {},
   "outputs": [],
   "source": [
    "#Success!   Able to retrieve a single city.\n",
    "#now retrieve each individual piece of data needed for the loop"
   ]
  },
  {
   "cell_type": "code",
   "execution_count": 12,
   "metadata": {},
   "outputs": [
    {
     "name": "stdout",
     "output_type": "stream",
     "text": [
      "Alofi\n"
     ]
    }
   ],
   "source": [
    "print(weather_json[\"name\"])"
   ]
  },
  {
   "cell_type": "code",
   "execution_count": 13,
   "metadata": {},
   "outputs": [
    {
     "name": "stdout",
     "output_type": "stream",
     "text": [
      "-19.06\n"
     ]
    }
   ],
   "source": [
    "print(weather_json[\"coord\"][\"lat\"])"
   ]
  },
  {
   "cell_type": "code",
   "execution_count": 14,
   "metadata": {},
   "outputs": [
    {
     "name": "stdout",
     "output_type": "stream",
     "text": [
      "78.8\n"
     ]
    }
   ],
   "source": [
    "print(weather_json[\"main\"][\"temp\"])"
   ]
  },
  {
   "cell_type": "code",
   "execution_count": 15,
   "metadata": {},
   "outputs": [
    {
     "name": "stdout",
     "output_type": "stream",
     "text": [
      "94\n"
     ]
    }
   ],
   "source": [
    "print(weather_json[\"main\"][\"humidity\"])"
   ]
  },
  {
   "cell_type": "code",
   "execution_count": 16,
   "metadata": {},
   "outputs": [
    {
     "name": "stdout",
     "output_type": "stream",
     "text": [
      "44\n"
     ]
    }
   ],
   "source": [
    "print(weather_json[\"clouds\"][\"all\"])"
   ]
  },
  {
   "cell_type": "code",
   "execution_count": 17,
   "metadata": {},
   "outputs": [
    {
     "name": "stdout",
     "output_type": "stream",
     "text": [
      "5.82\n"
     ]
    }
   ],
   "source": [
    "print(weather_json[\"wind\"][\"speed\"])"
   ]
  },
  {
   "cell_type": "markdown",
   "metadata": {},
   "source": [
    "### need a dataframe containing city and country to begin\n",
    "NOTE:   the Weather API will take only a city; however, if multiples are found, API responds with a list of results that match a searching word. \n",
    "<BR>\n",
    "Therefore, I will begin with a list of cities and countries which can also be passed to the \n",
    "    <BR>q city name and country code divided by comma, use ISO 3166 country codes\n",
    "        \n",
    "<BR> https://openweathermap.org/current"
   ]
  },
  {
   "cell_type": "code",
   "execution_count": 18,
   "metadata": {},
   "outputs": [
    {
     "data": {
      "text/html": [
       "<div>\n",
       "<style scoped>\n",
       "    .dataframe tbody tr th:only-of-type {\n",
       "        vertical-align: middle;\n",
       "    }\n",
       "\n",
       "    .dataframe tbody tr th {\n",
       "        vertical-align: top;\n",
       "    }\n",
       "\n",
       "    .dataframe thead th {\n",
       "        text-align: right;\n",
       "    }\n",
       "</style>\n",
       "<table border=\"1\" class=\"dataframe\">\n",
       "  <thead>\n",
       "    <tr style=\"text-align: right;\">\n",
       "      <th></th>\n",
       "      <th>city</th>\n",
       "      <th>country</th>\n",
       "    </tr>\n",
       "  </thead>\n",
       "  <tbody>\n",
       "    <tr>\n",
       "      <th>0</th>\n",
       "      <td>atasu</td>\n",
       "      <td>kz</td>\n",
       "    </tr>\n",
       "    <tr>\n",
       "      <th>1</th>\n",
       "      <td>torbay</td>\n",
       "      <td>ca</td>\n",
       "    </tr>\n",
       "    <tr>\n",
       "      <th>2</th>\n",
       "      <td>kattivakkam</td>\n",
       "      <td>in</td>\n",
       "    </tr>\n",
       "    <tr>\n",
       "      <th>3</th>\n",
       "      <td>atuona</td>\n",
       "      <td>pf</td>\n",
       "    </tr>\n",
       "    <tr>\n",
       "      <th>4</th>\n",
       "      <td>penzance</td>\n",
       "      <td>gb</td>\n",
       "    </tr>\n",
       "  </tbody>\n",
       "</table>\n",
       "</div>"
      ],
      "text/plain": [
       "          city country\n",
       "0        atasu      kz\n",
       "1       torbay      ca\n",
       "2  kattivakkam      in\n",
       "3       atuona      pf\n",
       "4     penzance      gb"
      ]
     },
     "execution_count": 18,
     "metadata": {},
     "output_type": "execute_result"
    }
   ],
   "source": [
    "#Begin with the city and country list which was created in the begining.\n",
    "\n",
    "cityCountry = pd.DataFrame(list(zip(cities, countries)),\n",
    "              columns=['city','country'])\n",
    "\n",
    "cityCountry.head()"
   ]
  },
  {
   "cell_type": "code",
   "execution_count": 19,
   "metadata": {},
   "outputs": [
    {
     "data": {
      "text/plain": [
       "589"
      ]
     },
     "execution_count": 19,
     "metadata": {},
     "output_type": "execute_result"
    }
   ],
   "source": [
    "#confirm there are at least 500 countries\n",
    "len(cityCountry)"
   ]
  },
  {
   "cell_type": "code",
   "execution_count": 20,
   "metadata": {},
   "outputs": [
    {
     "data": {
      "text/html": [
       "<div>\n",
       "<style scoped>\n",
       "    .dataframe tbody tr th:only-of-type {\n",
       "        vertical-align: middle;\n",
       "    }\n",
       "\n",
       "    .dataframe tbody tr th {\n",
       "        vertical-align: top;\n",
       "    }\n",
       "\n",
       "    .dataframe thead th {\n",
       "        text-align: right;\n",
       "    }\n",
       "</style>\n",
       "<table border=\"1\" class=\"dataframe\">\n",
       "  <thead>\n",
       "    <tr style=\"text-align: right;\">\n",
       "      <th></th>\n",
       "      <th>city</th>\n",
       "      <th>country</th>\n",
       "      <th>batch</th>\n",
       "    </tr>\n",
       "  </thead>\n",
       "  <tbody>\n",
       "    <tr>\n",
       "      <th>0</th>\n",
       "      <td>atasu</td>\n",
       "      <td>kz</td>\n",
       "      <td></td>\n",
       "    </tr>\n",
       "    <tr>\n",
       "      <th>1</th>\n",
       "      <td>torbay</td>\n",
       "      <td>ca</td>\n",
       "      <td></td>\n",
       "    </tr>\n",
       "    <tr>\n",
       "      <th>2</th>\n",
       "      <td>kattivakkam</td>\n",
       "      <td>in</td>\n",
       "      <td></td>\n",
       "    </tr>\n",
       "    <tr>\n",
       "      <th>3</th>\n",
       "      <td>atuona</td>\n",
       "      <td>pf</td>\n",
       "      <td></td>\n",
       "    </tr>\n",
       "    <tr>\n",
       "      <th>4</th>\n",
       "      <td>penzance</td>\n",
       "      <td>gb</td>\n",
       "      <td></td>\n",
       "    </tr>\n",
       "  </tbody>\n",
       "</table>\n",
       "</div>"
      ],
      "text/plain": [
       "          city country batch\n",
       "0        atasu      kz      \n",
       "1       torbay      ca      \n",
       "2  kattivakkam      in      \n",
       "3       atuona      pf      \n",
       "4     penzance      gb      "
      ]
     },
     "execution_count": 20,
     "metadata": {},
     "output_type": "execute_result"
    }
   ],
   "source": [
    "#  ??? not sure if I will take this approach\n",
    "\n",
    "#the weather API allows for no more than 60 calls per minutes.\n",
    "#divide the list into groups of 60\n",
    "#https://openweathermap.org/price\n",
    "\n",
    "# Add column for batch\n",
    "# Note that we used \"\" to specify initial entry.\n",
    "cityCountry[\"batch\"] = \"\"\n",
    "cityCountry.head()"
   ]
  },
  {
   "cell_type": "code",
   "execution_count": 21,
   "metadata": {},
   "outputs": [],
   "source": [
    "# create a data frome with the values needed for the API calls\n",
    "\n",
    "cityCountry2 = cityCountry\n",
    "cityCountry2[\"location\"] = (cityCountry2[\"city\"] + \", \" + cityCountry2[\"country\"])\n",
    "cityCountry2[\"newCity\"] = \"\"\n",
    "cityCountry2[\"newCountry\"] = \"\"\n",
    "cityCountry2[\"lat\"] = \"\"\n",
    "cityCountry2[\"long\"] = \"\"\n",
    "cityCountry2[\"tempF\"] = \"\"\n",
    "cityCountry2[\"humidity\"] = \"\"\n",
    "cityCountry2[\"cloud\"] = \"\"\n",
    "cityCountry2[\"windMPH\"] = \"\"\n",
    "cityCountry2[\"maxTemp\"] = \"\"\n",
    "cityCountry2.head()"
   ]
  },
  {
   "cell_type": "code",
   "execution_count": 22,
   "metadata": {},
   "outputs": [
    {
     "data": {
      "text/html": [
       "<div>\n",
       "<style scoped>\n",
       "    .dataframe tbody tr th:only-of-type {\n",
       "        vertical-align: middle;\n",
       "    }\n",
       "\n",
       "    .dataframe tbody tr th {\n",
       "        vertical-align: top;\n",
       "    }\n",
       "\n",
       "    .dataframe thead th {\n",
       "        text-align: right;\n",
       "    }\n",
       "</style>\n",
       "<table border=\"1\" class=\"dataframe\">\n",
       "  <thead>\n",
       "    <tr style=\"text-align: right;\">\n",
       "      <th></th>\n",
       "      <th>city</th>\n",
       "      <th>country</th>\n",
       "      <th>batch</th>\n",
       "      <th>location</th>\n",
       "      <th>newCity</th>\n",
       "      <th>newCountry</th>\n",
       "      <th>lat</th>\n",
       "      <th>long</th>\n",
       "      <th>tempF</th>\n",
       "      <th>humidity</th>\n",
       "      <th>cloud</th>\n",
       "      <th>windMPH</th>\n",
       "      <th>maxTemp</th>\n",
       "    </tr>\n",
       "  </thead>\n",
       "  <tbody>\n",
       "    <tr>\n",
       "      <th>0</th>\n",
       "      <td>atasu</td>\n",
       "      <td>kz</td>\n",
       "      <td></td>\n",
       "      <td>atasu, kz</td>\n",
       "      <td></td>\n",
       "      <td></td>\n",
       "      <td></td>\n",
       "      <td></td>\n",
       "      <td></td>\n",
       "      <td></td>\n",
       "      <td></td>\n",
       "      <td></td>\n",
       "      <td></td>\n",
       "    </tr>\n",
       "    <tr>\n",
       "      <th>1</th>\n",
       "      <td>torbay</td>\n",
       "      <td>ca</td>\n",
       "      <td></td>\n",
       "      <td>torbay, ca</td>\n",
       "      <td></td>\n",
       "      <td></td>\n",
       "      <td></td>\n",
       "      <td></td>\n",
       "      <td></td>\n",
       "      <td></td>\n",
       "      <td></td>\n",
       "      <td></td>\n",
       "      <td></td>\n",
       "    </tr>\n",
       "    <tr>\n",
       "      <th>2</th>\n",
       "      <td>kattivakkam</td>\n",
       "      <td>in</td>\n",
       "      <td></td>\n",
       "      <td>kattivakkam, in</td>\n",
       "      <td></td>\n",
       "      <td></td>\n",
       "      <td></td>\n",
       "      <td></td>\n",
       "      <td></td>\n",
       "      <td></td>\n",
       "      <td></td>\n",
       "      <td></td>\n",
       "      <td></td>\n",
       "    </tr>\n",
       "    <tr>\n",
       "      <th>3</th>\n",
       "      <td>atuona</td>\n",
       "      <td>pf</td>\n",
       "      <td></td>\n",
       "      <td>atuona, pf</td>\n",
       "      <td></td>\n",
       "      <td></td>\n",
       "      <td></td>\n",
       "      <td></td>\n",
       "      <td></td>\n",
       "      <td></td>\n",
       "      <td></td>\n",
       "      <td></td>\n",
       "      <td></td>\n",
       "    </tr>\n",
       "    <tr>\n",
       "      <th>4</th>\n",
       "      <td>penzance</td>\n",
       "      <td>gb</td>\n",
       "      <td></td>\n",
       "      <td>penzance, gb</td>\n",
       "      <td></td>\n",
       "      <td></td>\n",
       "      <td></td>\n",
       "      <td></td>\n",
       "      <td></td>\n",
       "      <td></td>\n",
       "      <td></td>\n",
       "      <td></td>\n",
       "      <td></td>\n",
       "    </tr>\n",
       "  </tbody>\n",
       "</table>\n",
       "</div>"
      ],
      "text/plain": [
       "          city country batch         location newCity newCountry lat long  \\\n",
       "0        atasu      kz              atasu, kz                               \n",
       "1       torbay      ca             torbay, ca                               \n",
       "2  kattivakkam      in        kattivakkam, in                               \n",
       "3       atuona      pf             atuona, pf                               \n",
       "4     penzance      gb           penzance, gb                               \n",
       "\n",
       "  tempF humidity cloud windMPH maxTemp  \n",
       "0                                       \n",
       "1                                       \n",
       "2                                       \n",
       "3                                       \n",
       "4                                       "
      ]
     },
     "execution_count": 22,
     "metadata": {},
     "output_type": "execute_result"
    }
   ],
   "source": [
    "cityCountry2.head()"
   ]
  },
  {
   "cell_type": "markdown",
   "metadata": {},
   "source": [
    "### Populate the data only for a few records\n",
    "Practice before attemping to get data for 500+ cities"
   ]
  },
  {
   "cell_type": "code",
   "execution_count": 24,
   "metadata": {},
   "outputs": [
    {
     "data": {
      "text/html": [
       "<div>\n",
       "<style scoped>\n",
       "    .dataframe tbody tr th:only-of-type {\n",
       "        vertical-align: middle;\n",
       "    }\n",
       "\n",
       "    .dataframe tbody tr th {\n",
       "        vertical-align: top;\n",
       "    }\n",
       "\n",
       "    .dataframe thead th {\n",
       "        text-align: right;\n",
       "    }\n",
       "</style>\n",
       "<table border=\"1\" class=\"dataframe\">\n",
       "  <thead>\n",
       "    <tr style=\"text-align: right;\">\n",
       "      <th></th>\n",
       "      <th>city</th>\n",
       "      <th>country</th>\n",
       "      <th>batch</th>\n",
       "      <th>location</th>\n",
       "      <th>newCity</th>\n",
       "      <th>newCountry</th>\n",
       "      <th>lat</th>\n",
       "      <th>long</th>\n",
       "      <th>tempF</th>\n",
       "      <th>humidity</th>\n",
       "      <th>cloud</th>\n",
       "      <th>windMPH</th>\n",
       "      <th>maxTemp</th>\n",
       "    </tr>\n",
       "  </thead>\n",
       "  <tbody>\n",
       "    <tr>\n",
       "      <th>0</th>\n",
       "      <td>atasu</td>\n",
       "      <td>kz</td>\n",
       "      <td></td>\n",
       "      <td>atasu, kz</td>\n",
       "      <td></td>\n",
       "      <td></td>\n",
       "      <td></td>\n",
       "      <td></td>\n",
       "      <td></td>\n",
       "      <td></td>\n",
       "      <td></td>\n",
       "      <td></td>\n",
       "      <td></td>\n",
       "    </tr>\n",
       "    <tr>\n",
       "      <th>1</th>\n",
       "      <td>torbay</td>\n",
       "      <td>ca</td>\n",
       "      <td></td>\n",
       "      <td>torbay, ca</td>\n",
       "      <td></td>\n",
       "      <td></td>\n",
       "      <td></td>\n",
       "      <td></td>\n",
       "      <td></td>\n",
       "      <td></td>\n",
       "      <td></td>\n",
       "      <td></td>\n",
       "      <td></td>\n",
       "    </tr>\n",
       "    <tr>\n",
       "      <th>2</th>\n",
       "      <td>kattivakkam</td>\n",
       "      <td>in</td>\n",
       "      <td></td>\n",
       "      <td>kattivakkam, in</td>\n",
       "      <td></td>\n",
       "      <td></td>\n",
       "      <td></td>\n",
       "      <td></td>\n",
       "      <td></td>\n",
       "      <td></td>\n",
       "      <td></td>\n",
       "      <td></td>\n",
       "      <td></td>\n",
       "    </tr>\n",
       "    <tr>\n",
       "      <th>3</th>\n",
       "      <td>atuona</td>\n",
       "      <td>pf</td>\n",
       "      <td></td>\n",
       "      <td>atuona, pf</td>\n",
       "      <td></td>\n",
       "      <td></td>\n",
       "      <td></td>\n",
       "      <td></td>\n",
       "      <td></td>\n",
       "      <td></td>\n",
       "      <td></td>\n",
       "      <td></td>\n",
       "      <td></td>\n",
       "    </tr>\n",
       "    <tr>\n",
       "      <th>4</th>\n",
       "      <td>penzance</td>\n",
       "      <td>gb</td>\n",
       "      <td></td>\n",
       "      <td>penzance, gb</td>\n",
       "      <td></td>\n",
       "      <td></td>\n",
       "      <td></td>\n",
       "      <td></td>\n",
       "      <td></td>\n",
       "      <td></td>\n",
       "      <td></td>\n",
       "      <td></td>\n",
       "      <td></td>\n",
       "    </tr>\n",
       "    <tr>\n",
       "      <th>5</th>\n",
       "      <td>rikitea</td>\n",
       "      <td>pf</td>\n",
       "      <td></td>\n",
       "      <td>rikitea, pf</td>\n",
       "      <td></td>\n",
       "      <td></td>\n",
       "      <td></td>\n",
       "      <td></td>\n",
       "      <td></td>\n",
       "      <td></td>\n",
       "      <td></td>\n",
       "      <td></td>\n",
       "      <td></td>\n",
       "    </tr>\n",
       "    <tr>\n",
       "      <th>6</th>\n",
       "      <td>kodiak</td>\n",
       "      <td>us</td>\n",
       "      <td></td>\n",
       "      <td>kodiak, us</td>\n",
       "      <td></td>\n",
       "      <td></td>\n",
       "      <td></td>\n",
       "      <td></td>\n",
       "      <td></td>\n",
       "      <td></td>\n",
       "      <td></td>\n",
       "      <td></td>\n",
       "      <td></td>\n",
       "    </tr>\n",
       "    <tr>\n",
       "      <th>7</th>\n",
       "      <td>ushuaia</td>\n",
       "      <td>ar</td>\n",
       "      <td></td>\n",
       "      <td>ushuaia, ar</td>\n",
       "      <td></td>\n",
       "      <td></td>\n",
       "      <td></td>\n",
       "      <td></td>\n",
       "      <td></td>\n",
       "      <td></td>\n",
       "      <td></td>\n",
       "      <td></td>\n",
       "      <td></td>\n",
       "    </tr>\n",
       "    <tr>\n",
       "      <th>8</th>\n",
       "      <td>cape town</td>\n",
       "      <td>za</td>\n",
       "      <td></td>\n",
       "      <td>cape town, za</td>\n",
       "      <td></td>\n",
       "      <td></td>\n",
       "      <td></td>\n",
       "      <td></td>\n",
       "      <td></td>\n",
       "      <td></td>\n",
       "      <td></td>\n",
       "      <td></td>\n",
       "      <td></td>\n",
       "    </tr>\n",
       "    <tr>\n",
       "      <th>9</th>\n",
       "      <td>upernavik</td>\n",
       "      <td>gl</td>\n",
       "      <td></td>\n",
       "      <td>upernavik, gl</td>\n",
       "      <td></td>\n",
       "      <td></td>\n",
       "      <td></td>\n",
       "      <td></td>\n",
       "      <td></td>\n",
       "      <td></td>\n",
       "      <td></td>\n",
       "      <td></td>\n",
       "      <td></td>\n",
       "    </tr>\n",
       "  </tbody>\n",
       "</table>\n",
       "</div>"
      ],
      "text/plain": [
       "          city country batch         location newCity newCountry lat long  \\\n",
       "0        atasu      kz              atasu, kz                               \n",
       "1       torbay      ca             torbay, ca                               \n",
       "2  kattivakkam      in        kattivakkam, in                               \n",
       "3       atuona      pf             atuona, pf                               \n",
       "4     penzance      gb           penzance, gb                               \n",
       "5      rikitea      pf            rikitea, pf                               \n",
       "6       kodiak      us             kodiak, us                               \n",
       "7      ushuaia      ar            ushuaia, ar                               \n",
       "8    cape town      za          cape town, za                               \n",
       "9    upernavik      gl          upernavik, gl                               \n",
       "\n",
       "  tempF humidity cloud windMPH maxTemp  \n",
       "0                                       \n",
       "1                                       \n",
       "2                                       \n",
       "3                                       \n",
       "4                                       \n",
       "5                                       \n",
       "6                                       \n",
       "7                                       \n",
       "8                                       \n",
       "9                                       "
      ]
     },
     "execution_count": 24,
     "metadata": {},
     "output_type": "execute_result"
    }
   ],
   "source": [
    "#create a new df with only 10 records\n",
    "cityCountrySample = cityCountry2.head(10)\n",
    "cityCountrySample.head(20)"
   ]
  },
  {
   "cell_type": "code",
   "execution_count": 42,
   "metadata": {},
   "outputs": [],
   "source": [
    "from api_keys import api_key"
   ]
  },
  {
   "cell_type": "code",
   "execution_count": 43,
   "metadata": {},
   "outputs": [],
   "source": [
    "parameters = {\"appid\": api_key,\n",
    "             \"units\": \"imperial\",\n",
    "             \"city\": \"alofi\"}\n",
    "base_url = \"http://api.openweathermap.org/data/2.5/weather?\""
   ]
  },
  {
   "cell_type": "code",
   "execution_count": 44,
   "metadata": {},
   "outputs": [],
   "source": [
    "response = requests.get(base_url, params=parameters)"
   ]
  },
  {
   "cell_type": "code",
   "execution_count": 45,
   "metadata": {},
   "outputs": [
    {
     "name": "stdout",
     "output_type": "stream",
     "text": [
      "http://api.openweathermap.org/data/2.5/weather?appid=8bea25d5e18b7c2fb2ee3ac12cec5dad&units=imperial&city=alofi\n"
     ]
    }
   ],
   "source": [
    "print(response.url)"
   ]
  },
  {
   "cell_type": "code",
   "execution_count": null,
   "metadata": {},
   "outputs": [],
   "source": [
    "# create a params dict that will be updated with new city each iteration\n",
    "parameters = {\"key\": api_key,\n",
    "             \"units\": \"&units=imperial\"}\n",
    "\n",
    "# Loop through the cityCountrySample and run a search on each\n",
    "for index, row in cityCountrySample.iterrows():\n",
    "    base_url = \"http://api.openweathermap.org/data/2.5/weather?\"\n",
    "\n",
    "    city = row['City']\n",
    "    state = row['State']\n",
    "\n",
    "    # update address key value\n",
    "    params['address'] = f\"{city},{state}\"\n",
    "\n",
    "    # make request\n",
    "    cities_lat_lng = requests.get(base_url, params=params)\n",
    "    \n",
    "    # print the cities_lat_lng url, avoid doing for public github repos in order to avoid exposing key\n",
    "    # print(cities_lat_lng.url)\n",
    "    \n",
    "    # convert to json\n",
    "    cities_lat_lng = cities_lat_lng.json()\n",
    "\n",
    "    cities_pd.loc[index, \"Lat\"] = cities_lat_lng[\"results\"][0][\"geometry\"][\"location\"][\"lat\"]\n",
    "    cities_pd.loc[index, \"Lng\"] = cities_lat_lng[\"results\"][0][\"geometry\"][\"location\"][\"lng\"]\n",
    "\n",
    "# Visualize to confirm lat lng appear\n",
    "cities_pd.head()\n"
   ]
  },
  {
   "cell_type": "markdown",
   "metadata": {},
   "source": [
    "### Convert Raw Data to DataFrame\n",
    "* Export the city data into a .csv.\n",
    "* Display the DataFrame"
   ]
  },
  {
   "cell_type": "code",
   "execution_count": null,
   "metadata": {},
   "outputs": [],
   "source": []
  },
  {
   "cell_type": "code",
   "execution_count": null,
   "metadata": {},
   "outputs": [],
   "source": []
  },
  {
   "cell_type": "markdown",
   "metadata": {},
   "source": [
    "### Plotting the Data\n",
    "* Use proper labeling of the plots using plot titles (including date of analysis) and axes labels.\n",
    "* Save the plotted figures as .pngs."
   ]
  },
  {
   "cell_type": "markdown",
   "metadata": {},
   "source": [
    "#### Latitude vs. Temperature Plot"
   ]
  },
  {
   "cell_type": "code",
   "execution_count": null,
   "metadata": {},
   "outputs": [],
   "source": []
  },
  {
   "cell_type": "markdown",
   "metadata": {},
   "source": [
    "#### Latitude vs. Humidity Plot"
   ]
  },
  {
   "cell_type": "code",
   "execution_count": null,
   "metadata": {},
   "outputs": [],
   "source": []
  },
  {
   "cell_type": "markdown",
   "metadata": {},
   "source": [
    "#### Latitude vs. Cloudiness Plot"
   ]
  },
  {
   "cell_type": "code",
   "execution_count": null,
   "metadata": {},
   "outputs": [],
   "source": []
  },
  {
   "cell_type": "markdown",
   "metadata": {},
   "source": [
    "#### Latitude vs. Wind Speed Plot"
   ]
  },
  {
   "cell_type": "code",
   "execution_count": null,
   "metadata": {},
   "outputs": [],
   "source": []
  },
  {
   "cell_type": "code",
   "execution_count": null,
   "metadata": {},
   "outputs": [],
   "source": []
  }
 ],
 "metadata": {
  "anaconda-cloud": {},
  "kernel_info": {
   "name": "python3"
  },
  "kernelspec": {
   "display_name": "Python 3",
   "language": "python",
   "name": "python3"
  },
  "language_info": {
   "codemirror_mode": {
    "name": "ipython",
    "version": 3
   },
   "file_extension": ".py",
   "mimetype": "text/x-python",
   "name": "python",
   "nbconvert_exporter": "python",
   "pygments_lexer": "ipython3",
   "version": "3.7.1"
  },
  "nteract": {
   "version": "0.12.3"
  }
 },
 "nbformat": 4,
 "nbformat_minor": 2
}
