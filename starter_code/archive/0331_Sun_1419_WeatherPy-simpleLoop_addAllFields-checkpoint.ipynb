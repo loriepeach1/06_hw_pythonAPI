{
 "cells": [
  {
   "cell_type": "markdown",
   "metadata": {},
   "source": [
    "# WeatherPy\n",
    "----\n",
    "\n",
    "### Analysis\n",
    "* As expected, the weather becomes significantly warmer as one approaches the equator (0 Deg. Latitude). More interestingly, however, is the fact that the southern hemisphere tends to be warmer this time of year than the northern hemisphere. This may be due to the tilt of the earth.\n",
    "* There is no strong relationship between latitude and cloudiness. However, it is interesting to see that a strong band of cities sits at 0, 80, and 100% cloudiness.\n",
    "* There is no strong relationship between latitude and wind speed. However, in northern hemispheres there is a flurry of cities with over 20 mph of wind.\n",
    "\n",
    "---\n",
    "\n",
    "#### Note\n",
    "* Instructions have been included for each segment. You do not have to follow them exactly, but they are included to help you think through the steps."
   ]
  },
  {
   "cell_type": "code",
   "execution_count": 430,
   "metadata": {
    "scrolled": true
   },
   "outputs": [],
   "source": [
    "# Dependencies and Setup\n",
    "import matplotlib.pyplot as plt\n",
    "import pandas as pd\n",
    "import numpy as np\n",
    "import requests\n",
    "import time\n",
    "import json\n",
    "\n",
    "# Import API key\n",
    "from api_keys import myKey\n",
    "\n",
    "# Incorporated citipy to determine city based on latitude and longitude\n",
    "from citipy import citipy\n",
    "\n",
    "# Output File (CSV)\n",
    "output_data_file = \"output_data/cities.csv\"\n",
    "\n",
    "# Range of latitudes and longitudes\n",
    "lat_range = (-90, 90)\n",
    "lng_range = (-180, 180)"
   ]
  },
  {
   "cell_type": "markdown",
   "metadata": {},
   "source": [
    "## Generate Cities List"
   ]
  },
  {
   "cell_type": "code",
   "execution_count": 431,
   "metadata": {},
   "outputs": [
    {
     "data": {
      "text/plain": [
       "685"
      ]
     },
     "execution_count": 431,
     "metadata": {},
     "output_type": "execute_result"
    }
   ],
   "source": [
    "# List for holding lat_lngs and cities\n",
    "lat_lngs = []\n",
    "cities = []\n",
    "countries = []\n",
    "\n",
    "# Create a set of random lat and lng combinations\n",
    "lats = np.random.uniform(low=-90.000, high=90.000, size=1750)  \n",
    "lngs = np.random.uniform(low=-180.000, high=180.000, size=1750)\n",
    "lat_lngs = zip(lats, lngs)\n",
    "#uniform is to have the numbers evenly distributed\n",
    "#size is how many random numbers will be generated.\n",
    "#we are saying, generate 1500 random evenly distributed numbers between -90 and 90.\n",
    "\n",
    "# Identify nearest city for each lat, lng combination\n",
    "for each in lat_lngs:\n",
    "    city = citipy.nearest_city(each[0], each[1]).city_name \n",
    "    country = citipy.nearest_city(each[0], each[1]).country_code \n",
    "    \n",
    "    # If the city is unique, then add it to a our cities list\n",
    "    if city not in cities:\n",
    "        cities.append(city)\n",
    "        countries.append(country)\n",
    "\n",
    "# Print the city count to confirm sufficient count\n",
    "len(cities)\n",
    "\n",
    "#612 cites are returned.   There must be at least 500 on the next part of finding the weather.  If not, then must come back to this step and increase size."
   ]
  },
  {
   "cell_type": "code",
   "execution_count": 432,
   "metadata": {},
   "outputs": [
    {
     "data": {
      "text/plain": [
       "685"
      ]
     },
     "execution_count": 432,
     "metadata": {},
     "output_type": "execute_result"
    }
   ],
   "source": [
    "len(countries)"
   ]
  },
  {
   "cell_type": "code",
   "execution_count": 433,
   "metadata": {},
   "outputs": [
    {
     "name": "stdout",
     "output_type": "stream",
     "text": [
      "<zip object at 0x00000243EE54B8C8>\n"
     ]
    }
   ],
   "source": [
    "#??  how do I see the ln_lngs list?\n",
    "print(lat_lngs)"
   ]
  },
  {
   "cell_type": "code",
   "execution_count": 434,
   "metadata": {},
   "outputs": [
    {
     "name": "stdout",
     "output_type": "stream",
     "text": [
      "[ -12.34842006    8.1594146  -161.3364408  ... -160.61345879   23.56613824\n",
      "  118.96701327]\n"
     ]
    }
   ],
   "source": [
    "print(lngs)"
   ]
  },
  {
   "cell_type": "code",
   "execution_count": 435,
   "metadata": {},
   "outputs": [],
   "source": [
    "#"
   ]
  },
  {
   "cell_type": "markdown",
   "metadata": {},
   "source": [
    "### Perform API Calls\n",
    "* Perform a weather check on each city using a series of successive API calls.\n",
    "* Include a print log of each city as it'sbeing processed (with the city number and city name).\n"
   ]
  },
  {
   "cell_type": "code",
   "execution_count": 436,
   "metadata": {},
   "outputs": [],
   "source": [
    "#first, perform a check on a single city."
   ]
  },
  {
   "cell_type": "code",
   "execution_count": 437,
   "metadata": {},
   "outputs": [
    {
     "name": "stdout",
     "output_type": "stream",
     "text": [
      "http://api.openweathermap.org/data/2.5/weather?appid=8bea25d5e18b7c2fb2ee3ac12cec5dad&q=alofi&units=imperial\n"
     ]
    }
   ],
   "source": [
    "url = \"http://api.openweathermap.org/data/2.5/weather?\"\n",
    "city = \"alofi\"\n",
    "units = \"imperial\"\n",
    "\n",
    "# Build query URL\n",
    "query_url = url + \"appid=\" + myKey + \"&q=\" + city + \"&units=imperial\"\n",
    "#note:   adding imperial units will return the temperature in farenheight and the wind speed in miles per hour\n",
    "print(query_url)"
   ]
  },
  {
   "cell_type": "code",
   "execution_count": 438,
   "metadata": {},
   "outputs": [],
   "source": [
    "# Get weather data\n",
    "weather_response = requests.get(query_url)\n",
    "weather_json = weather_response.json()\n"
   ]
  },
  {
   "cell_type": "code",
   "execution_count": 439,
   "metadata": {},
   "outputs": [
    {
     "name": "stdout",
     "output_type": "stream",
     "text": [
      "{\n",
      "    \"base\": \"stations\",\n",
      "    \"clouds\": {\n",
      "        \"all\": 68\n",
      "    },\n",
      "    \"cod\": 200,\n",
      "    \"coord\": {\n",
      "        \"lat\": -19.06,\n",
      "        \"lon\": -169.92\n",
      "    },\n",
      "    \"dt\": 1554058800,\n",
      "    \"id\": 4036284,\n",
      "    \"main\": {\n",
      "        \"humidity\": 94,\n",
      "        \"pressure\": 1010,\n",
      "        \"temp\": 78.8,\n",
      "        \"temp_max\": 78.8,\n",
      "        \"temp_min\": 78.8\n",
      "    },\n",
      "    \"name\": \"Alofi\",\n",
      "    \"sys\": {\n",
      "        \"country\": \"NU\",\n",
      "        \"id\": 7306,\n",
      "        \"message\": 0.0043,\n",
      "        \"sunrise\": 1554053160,\n",
      "        \"sunset\": 1554096080,\n",
      "        \"type\": 1\n",
      "    },\n",
      "    \"weather\": [\n",
      "        {\n",
      "            \"description\": \"broken clouds\",\n",
      "            \"icon\": \"04d\",\n",
      "            \"id\": 803,\n",
      "            \"main\": \"Clouds\"\n",
      "        }\n",
      "    ],\n",
      "    \"wind\": {\n",
      "        \"deg\": 260,\n",
      "        \"speed\": 9.17\n",
      "    }\n",
      "}\n"
     ]
    }
   ],
   "source": [
    "print(json.dumps(weather_json, indent=4, sort_keys=True))"
   ]
  },
  {
   "cell_type": "code",
   "execution_count": 440,
   "metadata": {},
   "outputs": [],
   "source": [
    "#Success!   Able to retrieve a single city.\n",
    "#now retrieve each individual piece of data needed for the loop"
   ]
  },
  {
   "cell_type": "code",
   "execution_count": 441,
   "metadata": {},
   "outputs": [
    {
     "name": "stdout",
     "output_type": "stream",
     "text": [
      "Alofi\n"
     ]
    }
   ],
   "source": [
    "print(weather_json[\"name\"])"
   ]
  },
  {
   "cell_type": "code",
   "execution_count": 442,
   "metadata": {},
   "outputs": [
    {
     "name": "stdout",
     "output_type": "stream",
     "text": [
      "-19.06\n"
     ]
    }
   ],
   "source": [
    "print(weather_json[\"coord\"][\"lat\"])"
   ]
  },
  {
   "cell_type": "code",
   "execution_count": 443,
   "metadata": {},
   "outputs": [
    {
     "name": "stdout",
     "output_type": "stream",
     "text": [
      "78.8\n"
     ]
    }
   ],
   "source": [
    "print(weather_json[\"main\"][\"temp\"])"
   ]
  },
  {
   "cell_type": "code",
   "execution_count": 444,
   "metadata": {},
   "outputs": [
    {
     "name": "stdout",
     "output_type": "stream",
     "text": [
      "94\n"
     ]
    }
   ],
   "source": [
    "print(weather_json[\"main\"][\"humidity\"])"
   ]
  },
  {
   "cell_type": "code",
   "execution_count": 445,
   "metadata": {},
   "outputs": [
    {
     "name": "stdout",
     "output_type": "stream",
     "text": [
      "68\n"
     ]
    }
   ],
   "source": [
    "print(weather_json[\"clouds\"][\"all\"])"
   ]
  },
  {
   "cell_type": "code",
   "execution_count": 446,
   "metadata": {},
   "outputs": [
    {
     "name": "stdout",
     "output_type": "stream",
     "text": [
      "9.17\n"
     ]
    }
   ],
   "source": [
    "print(weather_json[\"wind\"][\"speed\"])"
   ]
  },
  {
   "cell_type": "markdown",
   "metadata": {},
   "source": [
    "### need a dataframe containing city and country to begin\n",
    "NOTE:   the Weather API will take only a city; however, if multiples are found, API responds with a list of results that match a searching word. \n",
    "<BR>\n",
    "Therefore, I will begin with a list of cities and countries which can also be passed to the \n",
    "    <BR>q city name and country code divided by comma, use ISO 3166 country codes\n",
    "        \n",
    "<BR> https://openweathermap.org/current"
   ]
  },
  {
   "cell_type": "code",
   "execution_count": 447,
   "metadata": {},
   "outputs": [
    {
     "data": {
      "text/html": [
       "<div>\n",
       "<style scoped>\n",
       "    .dataframe tbody tr th:only-of-type {\n",
       "        vertical-align: middle;\n",
       "    }\n",
       "\n",
       "    .dataframe tbody tr th {\n",
       "        vertical-align: top;\n",
       "    }\n",
       "\n",
       "    .dataframe thead th {\n",
       "        text-align: right;\n",
       "    }\n",
       "</style>\n",
       "<table border=\"1\" class=\"dataframe\">\n",
       "  <thead>\n",
       "    <tr style=\"text-align: right;\">\n",
       "      <th></th>\n",
       "      <th>city</th>\n",
       "      <th>country</th>\n",
       "    </tr>\n",
       "  </thead>\n",
       "  <tbody>\n",
       "    <tr>\n",
       "      <th>0</th>\n",
       "      <td>atar</td>\n",
       "      <td>mr</td>\n",
       "    </tr>\n",
       "    <tr>\n",
       "      <th>1</th>\n",
       "      <td>naters</td>\n",
       "      <td>ch</td>\n",
       "    </tr>\n",
       "    <tr>\n",
       "      <th>2</th>\n",
       "      <td>bethel</td>\n",
       "      <td>us</td>\n",
       "    </tr>\n",
       "    <tr>\n",
       "      <th>3</th>\n",
       "      <td>husavik</td>\n",
       "      <td>is</td>\n",
       "    </tr>\n",
       "    <tr>\n",
       "      <th>4</th>\n",
       "      <td>cabo san lucas</td>\n",
       "      <td>mx</td>\n",
       "    </tr>\n",
       "  </tbody>\n",
       "</table>\n",
       "</div>"
      ],
      "text/plain": [
       "             city country\n",
       "0            atar      mr\n",
       "1          naters      ch\n",
       "2          bethel      us\n",
       "3         husavik      is\n",
       "4  cabo san lucas      mx"
      ]
     },
     "execution_count": 447,
     "metadata": {},
     "output_type": "execute_result"
    }
   ],
   "source": [
    "#Begin with the city and country list which was created in the begining.\n",
    "\n",
    "cityCountry = pd.DataFrame(list(zip(cities, countries)),\n",
    "              columns=['city','country'])\n",
    "\n",
    "cityCountry.head()"
   ]
  },
  {
   "cell_type": "code",
   "execution_count": 448,
   "metadata": {},
   "outputs": [
    {
     "data": {
      "text/plain": [
       "685"
      ]
     },
     "execution_count": 448,
     "metadata": {},
     "output_type": "execute_result"
    }
   ],
   "source": [
    "#confirm there are at least 500 countries\n",
    "len(cityCountry)"
   ]
  },
  {
   "cell_type": "code",
   "execution_count": 449,
   "metadata": {},
   "outputs": [
    {
     "data": {
      "text/html": [
       "<div>\n",
       "<style scoped>\n",
       "    .dataframe tbody tr th:only-of-type {\n",
       "        vertical-align: middle;\n",
       "    }\n",
       "\n",
       "    .dataframe tbody tr th {\n",
       "        vertical-align: top;\n",
       "    }\n",
       "\n",
       "    .dataframe thead th {\n",
       "        text-align: right;\n",
       "    }\n",
       "</style>\n",
       "<table border=\"1\" class=\"dataframe\">\n",
       "  <thead>\n",
       "    <tr style=\"text-align: right;\">\n",
       "      <th></th>\n",
       "      <th>city</th>\n",
       "      <th>country</th>\n",
       "      <th>batch</th>\n",
       "    </tr>\n",
       "  </thead>\n",
       "  <tbody>\n",
       "    <tr>\n",
       "      <th>0</th>\n",
       "      <td>atar</td>\n",
       "      <td>mr</td>\n",
       "      <td></td>\n",
       "    </tr>\n",
       "    <tr>\n",
       "      <th>1</th>\n",
       "      <td>naters</td>\n",
       "      <td>ch</td>\n",
       "      <td></td>\n",
       "    </tr>\n",
       "    <tr>\n",
       "      <th>2</th>\n",
       "      <td>bethel</td>\n",
       "      <td>us</td>\n",
       "      <td></td>\n",
       "    </tr>\n",
       "    <tr>\n",
       "      <th>3</th>\n",
       "      <td>husavik</td>\n",
       "      <td>is</td>\n",
       "      <td></td>\n",
       "    </tr>\n",
       "    <tr>\n",
       "      <th>4</th>\n",
       "      <td>cabo san lucas</td>\n",
       "      <td>mx</td>\n",
       "      <td></td>\n",
       "    </tr>\n",
       "  </tbody>\n",
       "</table>\n",
       "</div>"
      ],
      "text/plain": [
       "             city country batch\n",
       "0            atar      mr      \n",
       "1          naters      ch      \n",
       "2          bethel      us      \n",
       "3         husavik      is      \n",
       "4  cabo san lucas      mx      "
      ]
     },
     "execution_count": 449,
     "metadata": {},
     "output_type": "execute_result"
    }
   ],
   "source": [
    "#  ??? not sure if I will take this approach\n",
    "\n",
    "#the weather API allows for no more than 60 calls per minutes.\n",
    "#divide the list into groups of 60\n",
    "#https://openweathermap.org/price\n",
    "\n",
    "# Add column for batch\n",
    "# Note that we used \"\" to specify initial entry.\n",
    "cityCountry[\"batch\"] = \"\"\n",
    "cityCountry.head()"
   ]
  },
  {
   "cell_type": "code",
   "execution_count": 450,
   "metadata": {},
   "outputs": [
    {
     "data": {
      "text/html": [
       "<div>\n",
       "<style scoped>\n",
       "    .dataframe tbody tr th:only-of-type {\n",
       "        vertical-align: middle;\n",
       "    }\n",
       "\n",
       "    .dataframe tbody tr th {\n",
       "        vertical-align: top;\n",
       "    }\n",
       "\n",
       "    .dataframe thead th {\n",
       "        text-align: right;\n",
       "    }\n",
       "</style>\n",
       "<table border=\"1\" class=\"dataframe\">\n",
       "  <thead>\n",
       "    <tr style=\"text-align: right;\">\n",
       "      <th></th>\n",
       "      <th>city</th>\n",
       "      <th>country</th>\n",
       "      <th>batch</th>\n",
       "      <th>location</th>\n",
       "      <th>newCity</th>\n",
       "      <th>newCountry</th>\n",
       "      <th>lat</th>\n",
       "      <th>long</th>\n",
       "      <th>tempF</th>\n",
       "      <th>humidity</th>\n",
       "      <th>cloud</th>\n",
       "      <th>windMPH</th>\n",
       "      <th>maxTemp</th>\n",
       "    </tr>\n",
       "  </thead>\n",
       "  <tbody>\n",
       "    <tr>\n",
       "      <th>0</th>\n",
       "      <td>atar</td>\n",
       "      <td>mr</td>\n",
       "      <td></td>\n",
       "      <td>atar, mr</td>\n",
       "      <td></td>\n",
       "      <td></td>\n",
       "      <td></td>\n",
       "      <td></td>\n",
       "      <td></td>\n",
       "      <td></td>\n",
       "      <td></td>\n",
       "      <td></td>\n",
       "      <td></td>\n",
       "    </tr>\n",
       "    <tr>\n",
       "      <th>1</th>\n",
       "      <td>naters</td>\n",
       "      <td>ch</td>\n",
       "      <td></td>\n",
       "      <td>naters, ch</td>\n",
       "      <td></td>\n",
       "      <td></td>\n",
       "      <td></td>\n",
       "      <td></td>\n",
       "      <td></td>\n",
       "      <td></td>\n",
       "      <td></td>\n",
       "      <td></td>\n",
       "      <td></td>\n",
       "    </tr>\n",
       "    <tr>\n",
       "      <th>2</th>\n",
       "      <td>bethel</td>\n",
       "      <td>us</td>\n",
       "      <td></td>\n",
       "      <td>bethel, us</td>\n",
       "      <td></td>\n",
       "      <td></td>\n",
       "      <td></td>\n",
       "      <td></td>\n",
       "      <td></td>\n",
       "      <td></td>\n",
       "      <td></td>\n",
       "      <td></td>\n",
       "      <td></td>\n",
       "    </tr>\n",
       "    <tr>\n",
       "      <th>3</th>\n",
       "      <td>husavik</td>\n",
       "      <td>is</td>\n",
       "      <td></td>\n",
       "      <td>husavik, is</td>\n",
       "      <td></td>\n",
       "      <td></td>\n",
       "      <td></td>\n",
       "      <td></td>\n",
       "      <td></td>\n",
       "      <td></td>\n",
       "      <td></td>\n",
       "      <td></td>\n",
       "      <td></td>\n",
       "    </tr>\n",
       "    <tr>\n",
       "      <th>4</th>\n",
       "      <td>cabo san lucas</td>\n",
       "      <td>mx</td>\n",
       "      <td></td>\n",
       "      <td>cabo san lucas, mx</td>\n",
       "      <td></td>\n",
       "      <td></td>\n",
       "      <td></td>\n",
       "      <td></td>\n",
       "      <td></td>\n",
       "      <td></td>\n",
       "      <td></td>\n",
       "      <td></td>\n",
       "      <td></td>\n",
       "    </tr>\n",
       "  </tbody>\n",
       "</table>\n",
       "</div>"
      ],
      "text/plain": [
       "             city country batch            location newCity newCountry lat  \\\n",
       "0            atar      mr                  atar, mr                          \n",
       "1          naters      ch                naters, ch                          \n",
       "2          bethel      us                bethel, us                          \n",
       "3         husavik      is               husavik, is                          \n",
       "4  cabo san lucas      mx        cabo san lucas, mx                          \n",
       "\n",
       "  long tempF humidity cloud windMPH maxTemp  \n",
       "0                                            \n",
       "1                                            \n",
       "2                                            \n",
       "3                                            \n",
       "4                                            "
      ]
     },
     "execution_count": 450,
     "metadata": {},
     "output_type": "execute_result"
    }
   ],
   "source": [
    "# create a data frome with the values needed for the API calls\n",
    "\n",
    "cityCountry2 = cityCountry\n",
    "cityCountry2[\"location\"] = (cityCountry2[\"city\"] + \", \" + cityCountry2[\"country\"])\n",
    "cityCountry2[\"newCity\"] = \"\"\n",
    "cityCountry2[\"newCountry\"] = \"\"\n",
    "cityCountry2[\"lat\"] = \"\"\n",
    "cityCountry2[\"long\"] = \"\"\n",
    "cityCountry2[\"tempF\"] = \"\"\n",
    "cityCountry2[\"humidity\"] = \"\"\n",
    "cityCountry2[\"cloud\"] = \"\"\n",
    "cityCountry2[\"windMPH\"] = \"\"\n",
    "cityCountry2[\"maxTemp\"] = \"\"\n",
    "cityCountry2.head()"
   ]
  },
  {
   "cell_type": "markdown",
   "metadata": {},
   "source": [
    "### Populate the data only for a few records\n",
    "Practice before attemping to get data for 500+ cities"
   ]
  },
  {
   "cell_type": "code",
   "execution_count": 451,
   "metadata": {},
   "outputs": [
    {
     "data": {
      "text/html": [
       "<div>\n",
       "<style scoped>\n",
       "    .dataframe tbody tr th:only-of-type {\n",
       "        vertical-align: middle;\n",
       "    }\n",
       "\n",
       "    .dataframe tbody tr th {\n",
       "        vertical-align: top;\n",
       "    }\n",
       "\n",
       "    .dataframe thead th {\n",
       "        text-align: right;\n",
       "    }\n",
       "</style>\n",
       "<table border=\"1\" class=\"dataframe\">\n",
       "  <thead>\n",
       "    <tr style=\"text-align: right;\">\n",
       "      <th></th>\n",
       "      <th>city</th>\n",
       "      <th>country</th>\n",
       "      <th>batch</th>\n",
       "      <th>location</th>\n",
       "      <th>newCity</th>\n",
       "      <th>newCountry</th>\n",
       "      <th>lat</th>\n",
       "      <th>long</th>\n",
       "      <th>tempF</th>\n",
       "      <th>humidity</th>\n",
       "      <th>cloud</th>\n",
       "      <th>windMPH</th>\n",
       "      <th>maxTemp</th>\n",
       "    </tr>\n",
       "  </thead>\n",
       "  <tbody>\n",
       "    <tr>\n",
       "      <th>0</th>\n",
       "      <td>atar</td>\n",
       "      <td>mr</td>\n",
       "      <td></td>\n",
       "      <td>atar, mr</td>\n",
       "      <td></td>\n",
       "      <td></td>\n",
       "      <td></td>\n",
       "      <td></td>\n",
       "      <td></td>\n",
       "      <td></td>\n",
       "      <td></td>\n",
       "      <td></td>\n",
       "      <td></td>\n",
       "    </tr>\n",
       "    <tr>\n",
       "      <th>1</th>\n",
       "      <td>naters</td>\n",
       "      <td>ch</td>\n",
       "      <td></td>\n",
       "      <td>naters, ch</td>\n",
       "      <td></td>\n",
       "      <td></td>\n",
       "      <td></td>\n",
       "      <td></td>\n",
       "      <td></td>\n",
       "      <td></td>\n",
       "      <td></td>\n",
       "      <td></td>\n",
       "      <td></td>\n",
       "    </tr>\n",
       "    <tr>\n",
       "      <th>2</th>\n",
       "      <td>bethel</td>\n",
       "      <td>us</td>\n",
       "      <td></td>\n",
       "      <td>bethel, us</td>\n",
       "      <td></td>\n",
       "      <td></td>\n",
       "      <td></td>\n",
       "      <td></td>\n",
       "      <td></td>\n",
       "      <td></td>\n",
       "      <td></td>\n",
       "      <td></td>\n",
       "      <td></td>\n",
       "    </tr>\n",
       "    <tr>\n",
       "      <th>3</th>\n",
       "      <td>husavik</td>\n",
       "      <td>is</td>\n",
       "      <td></td>\n",
       "      <td>husavik, is</td>\n",
       "      <td></td>\n",
       "      <td></td>\n",
       "      <td></td>\n",
       "      <td></td>\n",
       "      <td></td>\n",
       "      <td></td>\n",
       "      <td></td>\n",
       "      <td></td>\n",
       "      <td></td>\n",
       "    </tr>\n",
       "    <tr>\n",
       "      <th>4</th>\n",
       "      <td>cabo san lucas</td>\n",
       "      <td>mx</td>\n",
       "      <td></td>\n",
       "      <td>cabo san lucas, mx</td>\n",
       "      <td></td>\n",
       "      <td></td>\n",
       "      <td></td>\n",
       "      <td></td>\n",
       "      <td></td>\n",
       "      <td></td>\n",
       "      <td></td>\n",
       "      <td></td>\n",
       "      <td></td>\n",
       "    </tr>\n",
       "    <tr>\n",
       "      <th>5</th>\n",
       "      <td>vaini</td>\n",
       "      <td>to</td>\n",
       "      <td></td>\n",
       "      <td>vaini, to</td>\n",
       "      <td></td>\n",
       "      <td></td>\n",
       "      <td></td>\n",
       "      <td></td>\n",
       "      <td></td>\n",
       "      <td></td>\n",
       "      <td></td>\n",
       "      <td></td>\n",
       "      <td></td>\n",
       "    </tr>\n",
       "    <tr>\n",
       "      <th>6</th>\n",
       "      <td>butaritari</td>\n",
       "      <td>ki</td>\n",
       "      <td></td>\n",
       "      <td>butaritari, ki</td>\n",
       "      <td></td>\n",
       "      <td></td>\n",
       "      <td></td>\n",
       "      <td></td>\n",
       "      <td></td>\n",
       "      <td></td>\n",
       "      <td></td>\n",
       "      <td></td>\n",
       "      <td></td>\n",
       "    </tr>\n",
       "    <tr>\n",
       "      <th>7</th>\n",
       "      <td>plouzane</td>\n",
       "      <td>fr</td>\n",
       "      <td></td>\n",
       "      <td>plouzane, fr</td>\n",
       "      <td></td>\n",
       "      <td></td>\n",
       "      <td></td>\n",
       "      <td></td>\n",
       "      <td></td>\n",
       "      <td></td>\n",
       "      <td></td>\n",
       "      <td></td>\n",
       "      <td></td>\n",
       "    </tr>\n",
       "    <tr>\n",
       "      <th>8</th>\n",
       "      <td>tuatapere</td>\n",
       "      <td>nz</td>\n",
       "      <td></td>\n",
       "      <td>tuatapere, nz</td>\n",
       "      <td></td>\n",
       "      <td></td>\n",
       "      <td></td>\n",
       "      <td></td>\n",
       "      <td></td>\n",
       "      <td></td>\n",
       "      <td></td>\n",
       "      <td></td>\n",
       "      <td></td>\n",
       "    </tr>\n",
       "    <tr>\n",
       "      <th>9</th>\n",
       "      <td>ushuaia</td>\n",
       "      <td>ar</td>\n",
       "      <td></td>\n",
       "      <td>ushuaia, ar</td>\n",
       "      <td></td>\n",
       "      <td></td>\n",
       "      <td></td>\n",
       "      <td></td>\n",
       "      <td></td>\n",
       "      <td></td>\n",
       "      <td></td>\n",
       "      <td></td>\n",
       "      <td></td>\n",
       "    </tr>\n",
       "  </tbody>\n",
       "</table>\n",
       "</div>"
      ],
      "text/plain": [
       "             city country batch            location newCity newCountry lat  \\\n",
       "0            atar      mr                  atar, mr                          \n",
       "1          naters      ch                naters, ch                          \n",
       "2          bethel      us                bethel, us                          \n",
       "3         husavik      is               husavik, is                          \n",
       "4  cabo san lucas      mx        cabo san lucas, mx                          \n",
       "5           vaini      to                 vaini, to                          \n",
       "6      butaritari      ki            butaritari, ki                          \n",
       "7        plouzane      fr              plouzane, fr                          \n",
       "8       tuatapere      nz             tuatapere, nz                          \n",
       "9         ushuaia      ar               ushuaia, ar                          \n",
       "\n",
       "  long tempF humidity cloud windMPH maxTemp  \n",
       "0                                            \n",
       "1                                            \n",
       "2                                            \n",
       "3                                            \n",
       "4                                            \n",
       "5                                            \n",
       "6                                            \n",
       "7                                            \n",
       "8                                            \n",
       "9                                            "
      ]
     },
     "execution_count": 451,
     "metadata": {},
     "output_type": "execute_result"
    }
   ],
   "source": [
    "#create a new df with only 10 records\n",
    "cityCountrySample = cityCountry2.head(10)\n",
    "cityCountrySample.head(20)"
   ]
  },
  {
   "cell_type": "code",
   "execution_count": 452,
   "metadata": {},
   "outputs": [],
   "source": [
    "#ensure I can get a single response using parameters\n",
    "parameters = {\"appid\": myKey,\n",
    "             \"units\": \"imperial\",\n",
    "             \"q\": \"vaini, to\"}\n",
    "base_url = \"http://api.openweathermap.org/data/2.5/weather?\""
   ]
  },
  {
   "cell_type": "code",
   "execution_count": 453,
   "metadata": {},
   "outputs": [],
   "source": [
    "#make the response in json format by adding .json()\n",
    "singleResponse = requests.get(base_url, params=parameters)"
   ]
  },
  {
   "cell_type": "code",
   "execution_count": 454,
   "metadata": {},
   "outputs": [
    {
     "name": "stdout",
     "output_type": "stream",
     "text": [
      "http://api.openweathermap.org/data/2.5/weather?appid=8bea25d5e18b7c2fb2ee3ac12cec5dad&units=imperial&q=vaini%2C+to\n"
     ]
    }
   ],
   "source": [
    "print(singleResponse.url)"
   ]
  },
  {
   "cell_type": "code",
   "execution_count": 455,
   "metadata": {},
   "outputs": [],
   "source": [
    "singleResponseJ = singleResponse.json()"
   ]
  },
  {
   "cell_type": "code",
   "execution_count": 456,
   "metadata": {},
   "outputs": [
    {
     "name": "stdout",
     "output_type": "stream",
     "text": [
      "{\n",
      "    \"base\": \"stations\",\n",
      "    \"clouds\": {\n",
      "        \"all\": 20\n",
      "    },\n",
      "    \"cod\": 200,\n",
      "    \"coord\": {\n",
      "        \"lat\": -21.2,\n",
      "        \"lon\": -175.2\n",
      "    },\n",
      "    \"dt\": 1554058800,\n",
      "    \"id\": 4032243,\n",
      "    \"main\": {\n",
      "        \"humidity\": 94,\n",
      "        \"pressure\": 1010,\n",
      "        \"temp\": 77,\n",
      "        \"temp_max\": 77,\n",
      "        \"temp_min\": 77\n",
      "    },\n",
      "    \"name\": \"Vaini\",\n",
      "    \"sys\": {\n",
      "        \"country\": \"TO\",\n",
      "        \"id\": 7285,\n",
      "        \"message\": 0.0041,\n",
      "        \"sunrise\": 1554140885,\n",
      "        \"sunset\": 1554183652,\n",
      "        \"type\": 1\n",
      "    },\n",
      "    \"visibility\": 10000,\n",
      "    \"weather\": [\n",
      "        {\n",
      "            \"description\": \"few clouds\",\n",
      "            \"icon\": \"02d\",\n",
      "            \"id\": 801,\n",
      "            \"main\": \"Clouds\"\n",
      "        }\n",
      "    ],\n",
      "    \"wind\": {\n",
      "        \"deg\": 140,\n",
      "        \"speed\": 8.05\n",
      "    }\n",
      "}\n"
     ]
    }
   ],
   "source": [
    "print(json.dumps(singleResponseJ, indent=4, sort_keys=True))"
   ]
  },
  {
   "cell_type": "code",
   "execution_count": 457,
   "metadata": {},
   "outputs": [
    {
     "name": "stdout",
     "output_type": "stream",
     "text": [
      "Vaini\n"
     ]
    }
   ],
   "source": [
    "print(singleResponseJ[\"name\"])"
   ]
  },
  {
   "cell_type": "code",
   "execution_count": 458,
   "metadata": {},
   "outputs": [],
   "source": [
    "#success!  I can get a valid URL using parameters.  "
   ]
  },
  {
   "cell_type": "code",
   "execution_count": 459,
   "metadata": {},
   "outputs": [
    {
     "name": "stdout",
     "output_type": "stream",
     "text": [
      "Number of cities to begin: 685\n"
     ]
    }
   ],
   "source": [
    "#begin by knowing the number of cities\n",
    "print(\"Number of cities to begin: \" + str(len(cityCountry))) "
   ]
  },
  {
   "cell_type": "code",
   "execution_count": 469,
   "metadata": {},
   "outputs": [],
   "source": [
    "pd.options.mode.chained_assignment = None  # default='warn'"
   ]
  },
  {
   "cell_type": "code",
   "execution_count": 470,
   "metadata": {},
   "outputs": [
    {
     "name": "stdout",
     "output_type": "stream",
     "text": [
      "---------------------------------------------\n",
      "Beginning Data Retrieval\n",
      "---------------------------------------------\n",
      "Number of cities to obtain data: 685\n",
      "---------------------------------------------\n",
      "Retrieving index # 0 | atar, mr\n",
      "http://api.openweathermap.org/data/2.5/weather?appid=8bea25d5e18b7c2fb2ee3ac12cec5dad&units=imperial&q=atar%2Cmr\n",
      "Retrieving index # 1 | naters, ch\n",
      "http://api.openweathermap.org/data/2.5/weather?appid=8bea25d5e18b7c2fb2ee3ac12cec5dad&units=imperial&q=naters%2Cch\n",
      "Retrieving index # 2 | bethel, us\n",
      "http://api.openweathermap.org/data/2.5/weather?appid=8bea25d5e18b7c2fb2ee3ac12cec5dad&units=imperial&q=bethel%2Cus\n",
      "Retrieving index # 3 | husavik, is\n",
      "http://api.openweathermap.org/data/2.5/weather?appid=8bea25d5e18b7c2fb2ee3ac12cec5dad&units=imperial&q=husavik%2Cis\n",
      "Retrieving index # 4 | cabo san lucas, mx\n",
      "http://api.openweathermap.org/data/2.5/weather?appid=8bea25d5e18b7c2fb2ee3ac12cec5dad&units=imperial&q=cabo+san+lucas%2Cmx\n",
      "Retrieving index # 5 | vaini, to\n",
      "http://api.openweathermap.org/data/2.5/weather?appid=8bea25d5e18b7c2fb2ee3ac12cec5dad&units=imperial&q=vaini%2Cto\n",
      "Retrieving index # 6 | butaritari, ki\n",
      "http://api.openweathermap.org/data/2.5/weather?appid=8bea25d5e18b7c2fb2ee3ac12cec5dad&units=imperial&q=butaritari%2Cki\n",
      "Retrieving index # 7 | plouzane, fr\n",
      "http://api.openweathermap.org/data/2.5/weather?appid=8bea25d5e18b7c2fb2ee3ac12cec5dad&units=imperial&q=plouzane%2Cfr\n",
      "Retrieving index # 8 | tuatapere, nz\n",
      "http://api.openweathermap.org/data/2.5/weather?appid=8bea25d5e18b7c2fb2ee3ac12cec5dad&units=imperial&q=tuatapere%2Cnz\n",
      "Retrieving index # 9 | ushuaia, ar\n",
      "http://api.openweathermap.org/data/2.5/weather?appid=8bea25d5e18b7c2fb2ee3ac12cec5dad&units=imperial&q=ushuaia%2Car\n",
      "---------------------------------------------\n",
      "Date Retrieval Complete\n",
      "---------------------------------------------\n"
     ]
    },
    {
     "data": {
      "text/html": [
       "<div>\n",
       "<style scoped>\n",
       "    .dataframe tbody tr th:only-of-type {\n",
       "        vertical-align: middle;\n",
       "    }\n",
       "\n",
       "    .dataframe tbody tr th {\n",
       "        vertical-align: top;\n",
       "    }\n",
       "\n",
       "    .dataframe thead th {\n",
       "        text-align: right;\n",
       "    }\n",
       "</style>\n",
       "<table border=\"1\" class=\"dataframe\">\n",
       "  <thead>\n",
       "    <tr style=\"text-align: right;\">\n",
       "      <th></th>\n",
       "      <th>city</th>\n",
       "      <th>country</th>\n",
       "      <th>batch</th>\n",
       "      <th>location</th>\n",
       "      <th>newCity</th>\n",
       "      <th>newCountry</th>\n",
       "      <th>lat</th>\n",
       "      <th>long</th>\n",
       "      <th>tempF</th>\n",
       "      <th>humidity</th>\n",
       "      <th>cloud</th>\n",
       "      <th>windMPH</th>\n",
       "      <th>maxTemp</th>\n",
       "    </tr>\n",
       "  </thead>\n",
       "  <tbody>\n",
       "    <tr>\n",
       "      <th>0</th>\n",
       "      <td>atar</td>\n",
       "      <td>mr</td>\n",
       "      <td></td>\n",
       "      <td>atar, mr</td>\n",
       "      <td>Atar</td>\n",
       "      <td>MR</td>\n",
       "      <td>20.52</td>\n",
       "      <td>-13.05</td>\n",
       "      <td>59.06</td>\n",
       "      <td>58</td>\n",
       "      <td>0</td>\n",
       "      <td>4.47</td>\n",
       "      <td>59.06</td>\n",
       "    </tr>\n",
       "    <tr>\n",
       "      <th>1</th>\n",
       "      <td>naters</td>\n",
       "      <td>ch</td>\n",
       "      <td></td>\n",
       "      <td>naters, ch</td>\n",
       "      <td>Naters</td>\n",
       "      <td>CH</td>\n",
       "      <td>46.32</td>\n",
       "      <td>7.99</td>\n",
       "      <td>54.55</td>\n",
       "      <td>53</td>\n",
       "      <td>0</td>\n",
       "      <td>9.17</td>\n",
       "      <td>59</td>\n",
       "    </tr>\n",
       "    <tr>\n",
       "      <th>2</th>\n",
       "      <td>bethel</td>\n",
       "      <td>us</td>\n",
       "      <td></td>\n",
       "      <td>bethel, us</td>\n",
       "      <td>Bethel</td>\n",
       "      <td>US</td>\n",
       "      <td>60.79</td>\n",
       "      <td>-161.76</td>\n",
       "      <td>37.4</td>\n",
       "      <td>85</td>\n",
       "      <td>1</td>\n",
       "      <td>3.47</td>\n",
       "      <td>37.4</td>\n",
       "    </tr>\n",
       "    <tr>\n",
       "      <th>3</th>\n",
       "      <td>husavik</td>\n",
       "      <td>is</td>\n",
       "      <td></td>\n",
       "      <td>husavik, is</td>\n",
       "      <td>Husavik</td>\n",
       "      <td>IS</td>\n",
       "      <td>66.04</td>\n",
       "      <td>-17.34</td>\n",
       "      <td>41</td>\n",
       "      <td>65</td>\n",
       "      <td>75</td>\n",
       "      <td>17.22</td>\n",
       "      <td>41</td>\n",
       "    </tr>\n",
       "    <tr>\n",
       "      <th>4</th>\n",
       "      <td>cabo san lucas</td>\n",
       "      <td>mx</td>\n",
       "      <td></td>\n",
       "      <td>cabo san lucas, mx</td>\n",
       "      <td>Cabo San Lucas</td>\n",
       "      <td>MX</td>\n",
       "      <td>22.89</td>\n",
       "      <td>-109.91</td>\n",
       "      <td>81.37</td>\n",
       "      <td>53</td>\n",
       "      <td>5</td>\n",
       "      <td>11.41</td>\n",
       "      <td>84.99</td>\n",
       "    </tr>\n",
       "  </tbody>\n",
       "</table>\n",
       "</div>"
      ],
      "text/plain": [
       "             city country batch            location         newCity  \\\n",
       "0            atar      mr                  atar, mr            Atar   \n",
       "1          naters      ch                naters, ch          Naters   \n",
       "2          bethel      us                bethel, us          Bethel   \n",
       "3         husavik      is               husavik, is         Husavik   \n",
       "4  cabo san lucas      mx        cabo san lucas, mx  Cabo San Lucas   \n",
       "\n",
       "  newCountry    lat    long  tempF humidity cloud windMPH maxTemp  \n",
       "0         MR  20.52  -13.05  59.06       58     0    4.47   59.06  \n",
       "1         CH  46.32    7.99  54.55       53     0    9.17      59  \n",
       "2         US  60.79 -161.76   37.4       85     1    3.47    37.4  \n",
       "3         IS  66.04  -17.34     41       65    75   17.22      41  \n",
       "4         MX  22.89 -109.91  81.37       53     5   11.41   84.99  "
      ]
     },
     "execution_count": 470,
     "metadata": {},
     "output_type": "execute_result"
    }
   ],
   "source": [
    "# create a parameters dict that will be updated with new city each iteration\n",
    "parameters = {\"appid\": myKey,\n",
    "             \"units\": \"imperial\"}\n",
    "\n",
    "print(\"---------------------------------------------\") \n",
    "print(\"Beginning Data Retrieval\")\n",
    "print(\"---------------------------------------------\") \n",
    "      \n",
    "#begin by knowing the number of cities\n",
    "print(\"Number of cities to obtain data: \" + str(len(cityCountry))) \n",
    "print(\"---------------------------------------------\")       \n",
    "\n",
    "# Loop through the cityCountrySample and perform a search on each\n",
    "for index, row in cityCountrySample.iterrows():\n",
    "    base_url = \"http://api.openweathermap.org/data/2.5/weather?\"\n",
    "\n",
    "    city = row['city']\n",
    "    country = row['country']\n",
    "\n",
    "    # update address key value\n",
    "    parameters['q'] = f\"{city},{country}\"\n",
    "\n",
    "    # make request\n",
    "    cities_data = requests.get(base_url, params=parameters)\n",
    "    \n",
    "    #print the record number  ??? how do I print the index number?\n",
    "    print(\"Retrieving index # \" + str(index) + \" | \" + row[\"city\"] + \", \" + row[\"country\"])\n",
    "      \n",
    "    #print the city which is being retrieved\n",
    "    #print(cityCountrySample)\n",
    "    \n",
    "    #confirm the URL\n",
    "    print(cities_data.url)\n",
    "        \n",
    "    # convert to json\n",
    "    citiesJ = cities_data.json()\n",
    "    \n",
    "    try:\n",
    "        cityCountrySample.loc[index, \"newCity\"] = citiesJ[\"name\"]\n",
    "    except:\n",
    "        print(\"     Missing city name... skipping data.\")     \n",
    "    \n",
    "    try:    \n",
    "        cityCountrySample.loc[index, \"newCountry\"] = citiesJ[\"sys\"][\"country\"]\n",
    "    except: \n",
    "        print(\"     Missing country name... skipping data.\")\n",
    " \n",
    "    try:    \n",
    "        cityCountrySample.loc[index, \"lat\"] = citiesJ[\"coord\"][\"lat\"]\n",
    "    except: \n",
    "        print(\"     Missing latitude... skipping data.\")\n",
    "        \n",
    "    try:    \n",
    "        cityCountrySample.loc[index, \"long\"] = citiesJ[\"coord\"][\"lon\"]\n",
    "    except: \n",
    "        print(\"     Missing longitude... skipping data.\")\n",
    "        \n",
    "    try:    \n",
    "        cityCountrySample.loc[index, \"tempF\"] = citiesJ[\"main\"][\"temp\"]\n",
    "    except: \n",
    "        print(\"     Missing temp(F)... skipping data.\")\n",
    "        \n",
    "    try:    \n",
    "        cityCountrySample.loc[index, \"humidity\"] = citiesJ[\"main\"][\"humidity\"]\n",
    "    except: \n",
    "        print(\"     Missing humidity... skipping data.\")\n",
    "        \n",
    "    try:    \n",
    "        cityCountrySample.loc[index, \"cloud\"] = citiesJ[\"clouds\"][\"all\"]\n",
    "    except: \n",
    "        print(\"     Missing %of cloudiness... skipping data.\")\n",
    "     \n",
    "    try:    \n",
    "        cityCountrySample.loc[index, \"windMPH\"] = citiesJ[\"wind\"][\"speed\"]\n",
    "    except: \n",
    "        print(\"     Missing wind speed... skipping data.\")\n",
    "        \n",
    "    try:    \n",
    "        cityCountrySample.loc[index, \"maxTemp\"] = citiesJ[\"main\"][\"temp_max\"]\n",
    "    except: \n",
    "        print(\"     Missing maximum temperature... skipping data.\")\n",
    "    \n",
    "    #the openweather API is free for up to 60 calls per minute.  Add a sleep timer to wait .75 seconds between calls.\n",
    "    time.sleep(.75)\n",
    "\n",
    "print(\"---------------------------------------------\")   \n",
    "print(\"Date Retrieval Complete\")\n",
    "print(\"---------------------------------------------\")   \n",
    "    \n",
    "# Visualize to confirm new city and new country appear\n",
    "cityCountrySample.head()\n"
   ]
  },
  {
   "cell_type": "code",
   "execution_count": 466,
   "metadata": {},
   "outputs": [
    {
     "data": {
      "text/html": [
       "<div>\n",
       "<style scoped>\n",
       "    .dataframe tbody tr th:only-of-type {\n",
       "        vertical-align: middle;\n",
       "    }\n",
       "\n",
       "    .dataframe tbody tr th {\n",
       "        vertical-align: top;\n",
       "    }\n",
       "\n",
       "    .dataframe thead th {\n",
       "        text-align: right;\n",
       "    }\n",
       "</style>\n",
       "<table border=\"1\" class=\"dataframe\">\n",
       "  <thead>\n",
       "    <tr style=\"text-align: right;\">\n",
       "      <th></th>\n",
       "      <th>city</th>\n",
       "      <th>country</th>\n",
       "      <th>batch</th>\n",
       "      <th>location</th>\n",
       "      <th>newCity</th>\n",
       "      <th>newCountry</th>\n",
       "      <th>lat</th>\n",
       "      <th>long</th>\n",
       "      <th>tempF</th>\n",
       "      <th>humidity</th>\n",
       "      <th>cloud</th>\n",
       "      <th>windMPH</th>\n",
       "      <th>maxTemp</th>\n",
       "    </tr>\n",
       "  </thead>\n",
       "  <tbody>\n",
       "    <tr>\n",
       "      <th>0</th>\n",
       "      <td>atar</td>\n",
       "      <td>mr</td>\n",
       "      <td></td>\n",
       "      <td>atar, mr</td>\n",
       "      <td>Atar</td>\n",
       "      <td>MR</td>\n",
       "      <td>20.52</td>\n",
       "      <td>-13.05</td>\n",
       "      <td>59.06</td>\n",
       "      <td>58</td>\n",
       "      <td>0</td>\n",
       "      <td>4.47</td>\n",
       "      <td>59.06</td>\n",
       "    </tr>\n",
       "    <tr>\n",
       "      <th>1</th>\n",
       "      <td>naters</td>\n",
       "      <td>ch</td>\n",
       "      <td></td>\n",
       "      <td>naters, ch</td>\n",
       "      <td>Naters</td>\n",
       "      <td>CH</td>\n",
       "      <td>46.32</td>\n",
       "      <td>7.99</td>\n",
       "      <td>54.55</td>\n",
       "      <td>53</td>\n",
       "      <td>0</td>\n",
       "      <td>9.17</td>\n",
       "      <td>59</td>\n",
       "    </tr>\n",
       "    <tr>\n",
       "      <th>2</th>\n",
       "      <td>bethel</td>\n",
       "      <td>us</td>\n",
       "      <td></td>\n",
       "      <td>bethel, us</td>\n",
       "      <td>Bethel</td>\n",
       "      <td>US</td>\n",
       "      <td>60.79</td>\n",
       "      <td>-161.76</td>\n",
       "      <td>37.4</td>\n",
       "      <td>85</td>\n",
       "      <td>1</td>\n",
       "      <td>3.47</td>\n",
       "      <td>37.4</td>\n",
       "    </tr>\n",
       "    <tr>\n",
       "      <th>3</th>\n",
       "      <td>husavik</td>\n",
       "      <td>is</td>\n",
       "      <td></td>\n",
       "      <td>husavik, is</td>\n",
       "      <td>Husavik</td>\n",
       "      <td>IS</td>\n",
       "      <td>66.04</td>\n",
       "      <td>-17.34</td>\n",
       "      <td>41</td>\n",
       "      <td>65</td>\n",
       "      <td>75</td>\n",
       "      <td>17.22</td>\n",
       "      <td>41</td>\n",
       "    </tr>\n",
       "    <tr>\n",
       "      <th>4</th>\n",
       "      <td>cabo san lucas</td>\n",
       "      <td>mx</td>\n",
       "      <td></td>\n",
       "      <td>cabo san lucas, mx</td>\n",
       "      <td>Cabo San Lucas</td>\n",
       "      <td>MX</td>\n",
       "      <td>22.89</td>\n",
       "      <td>-109.91</td>\n",
       "      <td>81.73</td>\n",
       "      <td>53</td>\n",
       "      <td>5</td>\n",
       "      <td>11.41</td>\n",
       "      <td>86</td>\n",
       "    </tr>\n",
       "    <tr>\n",
       "      <th>5</th>\n",
       "      <td>vaini</td>\n",
       "      <td>to</td>\n",
       "      <td></td>\n",
       "      <td>vaini, to</td>\n",
       "      <td>Vaini</td>\n",
       "      <td>TO</td>\n",
       "      <td>-21.2</td>\n",
       "      <td>-175.2</td>\n",
       "      <td>77</td>\n",
       "      <td>94</td>\n",
       "      <td>20</td>\n",
       "      <td>8.05</td>\n",
       "      <td>77</td>\n",
       "    </tr>\n",
       "    <tr>\n",
       "      <th>6</th>\n",
       "      <td>butaritari</td>\n",
       "      <td>ki</td>\n",
       "      <td></td>\n",
       "      <td>butaritari, ki</td>\n",
       "      <td>Butaritari</td>\n",
       "      <td>KI</td>\n",
       "      <td>3.07</td>\n",
       "      <td>172.79</td>\n",
       "      <td>82.55</td>\n",
       "      <td>100</td>\n",
       "      <td>68</td>\n",
       "      <td>15.43</td>\n",
       "      <td>82.55</td>\n",
       "    </tr>\n",
       "    <tr>\n",
       "      <th>7</th>\n",
       "      <td>plouzane</td>\n",
       "      <td>fr</td>\n",
       "      <td></td>\n",
       "      <td>plouzane, fr</td>\n",
       "      <td>Plouzane</td>\n",
       "      <td>FR</td>\n",
       "      <td>48.38</td>\n",
       "      <td>-4.62</td>\n",
       "      <td>53.33</td>\n",
       "      <td>71</td>\n",
       "      <td>20</td>\n",
       "      <td>9.17</td>\n",
       "      <td>55.99</td>\n",
       "    </tr>\n",
       "    <tr>\n",
       "      <th>8</th>\n",
       "      <td>tuatapere</td>\n",
       "      <td>nz</td>\n",
       "      <td></td>\n",
       "      <td>tuatapere, nz</td>\n",
       "      <td>Tuatapere</td>\n",
       "      <td>NZ</td>\n",
       "      <td>-46.13</td>\n",
       "      <td>167.69</td>\n",
       "      <td>55.99</td>\n",
       "      <td>80</td>\n",
       "      <td>24</td>\n",
       "      <td>10</td>\n",
       "      <td>55.99</td>\n",
       "    </tr>\n",
       "    <tr>\n",
       "      <th>9</th>\n",
       "      <td>ushuaia</td>\n",
       "      <td>ar</td>\n",
       "      <td></td>\n",
       "      <td>ushuaia, ar</td>\n",
       "      <td>Ushuaia</td>\n",
       "      <td>AR</td>\n",
       "      <td>-54.81</td>\n",
       "      <td>-68.31</td>\n",
       "      <td>52</td>\n",
       "      <td>81</td>\n",
       "      <td>75</td>\n",
       "      <td>19.46</td>\n",
       "      <td>53.6</td>\n",
       "    </tr>\n",
       "  </tbody>\n",
       "</table>\n",
       "</div>"
      ],
      "text/plain": [
       "             city country batch            location         newCity  \\\n",
       "0            atar      mr                  atar, mr            Atar   \n",
       "1          naters      ch                naters, ch          Naters   \n",
       "2          bethel      us                bethel, us          Bethel   \n",
       "3         husavik      is               husavik, is         Husavik   \n",
       "4  cabo san lucas      mx        cabo san lucas, mx  Cabo San Lucas   \n",
       "5           vaini      to                 vaini, to           Vaini   \n",
       "6      butaritari      ki            butaritari, ki      Butaritari   \n",
       "7        plouzane      fr              plouzane, fr        Plouzane   \n",
       "8       tuatapere      nz             tuatapere, nz       Tuatapere   \n",
       "9         ushuaia      ar               ushuaia, ar         Ushuaia   \n",
       "\n",
       "  newCountry    lat    long  tempF humidity cloud windMPH maxTemp  \n",
       "0         MR  20.52  -13.05  59.06       58     0    4.47   59.06  \n",
       "1         CH  46.32    7.99  54.55       53     0    9.17      59  \n",
       "2         US  60.79 -161.76   37.4       85     1    3.47    37.4  \n",
       "3         IS  66.04  -17.34     41       65    75   17.22      41  \n",
       "4         MX  22.89 -109.91  81.73       53     5   11.41      86  \n",
       "5         TO  -21.2  -175.2     77       94    20    8.05      77  \n",
       "6         KI   3.07  172.79  82.55      100    68   15.43   82.55  \n",
       "7         FR  48.38   -4.62  53.33       71    20    9.17   55.99  \n",
       "8         NZ -46.13  167.69  55.99       80    24      10   55.99  \n",
       "9         AR -54.81  -68.31     52       81    75   19.46    53.6  "
      ]
     },
     "execution_count": 466,
     "metadata": {},
     "output_type": "execute_result"
    }
   ],
   "source": [
    "cityCountrySample.head(10)"
   ]
  },
  {
   "cell_type": "markdown",
   "metadata": {},
   "source": [
    "### Convert Raw Data to DataFrame\n",
    "* Export the city data into a .csv.\n",
    "* Display the DataFrame"
   ]
  },
  {
   "cell_type": "code",
   "execution_count": null,
   "metadata": {},
   "outputs": [],
   "source": []
  },
  {
   "cell_type": "code",
   "execution_count": null,
   "metadata": {},
   "outputs": [],
   "source": []
  },
  {
   "cell_type": "markdown",
   "metadata": {},
   "source": [
    "### Plotting the Data\n",
    "* Use proper labeling of the plots using plot titles (including date of analysis) and axes labels.\n",
    "* Save the plotted figures as .pngs."
   ]
  },
  {
   "cell_type": "markdown",
   "metadata": {},
   "source": [
    "#### Latitude vs. Temperature Plot"
   ]
  },
  {
   "cell_type": "code",
   "execution_count": null,
   "metadata": {},
   "outputs": [],
   "source": []
  },
  {
   "cell_type": "markdown",
   "metadata": {},
   "source": [
    "#### Latitude vs. Humidity Plot"
   ]
  },
  {
   "cell_type": "code",
   "execution_count": null,
   "metadata": {},
   "outputs": [],
   "source": []
  },
  {
   "cell_type": "markdown",
   "metadata": {},
   "source": [
    "#### Latitude vs. Cloudiness Plot"
   ]
  },
  {
   "cell_type": "code",
   "execution_count": null,
   "metadata": {},
   "outputs": [],
   "source": []
  },
  {
   "cell_type": "markdown",
   "metadata": {},
   "source": [
    "#### Latitude vs. Wind Speed Plot"
   ]
  },
  {
   "cell_type": "code",
   "execution_count": null,
   "metadata": {},
   "outputs": [],
   "source": []
  },
  {
   "cell_type": "code",
   "execution_count": null,
   "metadata": {},
   "outputs": [],
   "source": []
  }
 ],
 "metadata": {
  "anaconda-cloud": {},
  "kernel_info": {
   "name": "python3"
  },
  "kernelspec": {
   "display_name": "Python 3",
   "language": "python",
   "name": "python3"
  },
  "language_info": {
   "codemirror_mode": {
    "name": "ipython",
    "version": 3
   },
   "file_extension": ".py",
   "mimetype": "text/x-python",
   "name": "python",
   "nbconvert_exporter": "python",
   "pygments_lexer": "ipython3",
   "version": "3.7.1"
  },
  "nteract": {
   "version": "0.12.3"
  }
 },
 "nbformat": 4,
 "nbformat_minor": 2
}
