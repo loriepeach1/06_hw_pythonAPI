{
 "cells": [
  {
   "cell_type": "markdown",
   "metadata": {},
   "source": [
    "# WeatherPy\n",
    "----\n",
    "\n",
    "### Analysis\n",
    "* As expected, the weather becomes significantly warmer as one approaches the equator (0 Deg. Latitude). More interestingly, however, is the fact that the southern hemisphere tends to be warmer this time of year than the northern hemisphere. This may be due to the tilt of the earth.\n",
    "* There is no strong relationship between latitude and cloudiness. However, it is interesting to see that a strong band of cities sits at 0, 80, and 100% cloudiness.\n",
    "* There is no strong relationship between latitude and wind speed. However, in northern hemispheres there is a flurry of cities with over 20 mph of wind.\n",
    "\n",
    "---\n",
    "\n",
    "#### Note\n",
    "* Instructions have been included for each segment. You do not have to follow them exactly, but they are included to help you think through the steps."
   ]
  },
  {
   "cell_type": "code",
   "execution_count": 35,
   "metadata": {
    "scrolled": true
   },
   "outputs": [],
   "source": [
    "# Dependencies and Setup\n",
    "import matplotlib.pyplot as plt\n",
    "import pandas as pd\n",
    "import numpy as np\n",
    "import requests\n",
    "import time\n",
    "import json\n",
    "\n",
    "# Import API key\n",
    "from api_keys import myKey\n",
    "\n",
    "# Incorporated citipy to determine city based on latitude and longitude\n",
    "from citipy import citipy\n",
    "\n",
    "# Output File (CSV)\n",
    "output_data_file = \"output_data/cities.csv\"\n",
    "\n",
    "# Range of latitudes and longitudes\n",
    "lat_range = (-90, 90)\n",
    "lng_range = (-180, 180)"
   ]
  },
  {
   "cell_type": "markdown",
   "metadata": {},
   "source": [
    "## Generate Cities List"
   ]
  },
  {
   "cell_type": "code",
   "execution_count": 36,
   "metadata": {},
   "outputs": [
    {
     "data": {
      "text/plain": [
       "678"
      ]
     },
     "execution_count": 36,
     "metadata": {},
     "output_type": "execute_result"
    }
   ],
   "source": [
    "# List for holding lat_lngs and cities\n",
    "lat_lngs = []\n",
    "cities = []\n",
    "countries = []\n",
    "\n",
    "# Create a set of random lat and lng combinations\n",
    "lats = np.random.uniform(low=-90.000, high=90.000, size=1750)  \n",
    "lngs = np.random.uniform(low=-180.000, high=180.000, size=1750)\n",
    "lat_lngs = zip(lats, lngs)\n",
    "#uniform is to have the numbers evenly distributed\n",
    "#size is how many random numbers will be generated.\n",
    "#we are saying, generate 1500 random evenly distributed numbers between -90 and 90.\n",
    "\n",
    "# Identify nearest city for each lat, lng combination\n",
    "for each in lat_lngs:\n",
    "    city = citipy.nearest_city(each[0], each[1]).city_name \n",
    "    country = citipy.nearest_city(each[0], each[1]).country_code \n",
    "    \n",
    "    # If the city is unique, then add it to a our cities list\n",
    "    if city not in cities:\n",
    "        cities.append(city)\n",
    "        countries.append(country)\n",
    "\n",
    "# Print the city count to confirm sufficient count\n",
    "len(cities)\n",
    "\n",
    "#612 cites are returned.   There must be at least 500 on the next part of finding the weather.  If not, then must come back to this step and increase size."
   ]
  },
  {
   "cell_type": "code",
   "execution_count": 37,
   "metadata": {},
   "outputs": [
    {
     "data": {
      "text/plain": [
       "678"
      ]
     },
     "execution_count": 37,
     "metadata": {},
     "output_type": "execute_result"
    }
   ],
   "source": [
    "len(countries)"
   ]
  },
  {
   "cell_type": "code",
   "execution_count": 38,
   "metadata": {},
   "outputs": [
    {
     "name": "stdout",
     "output_type": "stream",
     "text": [
      "<zip object at 0x0000018F517845C8>\n"
     ]
    }
   ],
   "source": [
    "#??  how do I see the ln_lngs list?\n",
    "print(lat_lngs)"
   ]
  },
  {
   "cell_type": "code",
   "execution_count": 39,
   "metadata": {},
   "outputs": [
    {
     "name": "stdout",
     "output_type": "stream",
     "text": [
      "[ -96.47662558   57.27440049 -160.75420586 ...   90.15610647   48.42638822\n",
      " -161.51925875]\n"
     ]
    }
   ],
   "source": [
    "print(lngs)"
   ]
  },
  {
   "cell_type": "code",
   "execution_count": 40,
   "metadata": {},
   "outputs": [],
   "source": [
    "#"
   ]
  },
  {
   "cell_type": "markdown",
   "metadata": {},
   "source": [
    "### Perform API Calls\n",
    "* Perform a weather check on each city using a series of successive API calls.\n",
    "* Include a print log of each city as it'sbeing processed (with the city number and city name).\n"
   ]
  },
  {
   "cell_type": "code",
   "execution_count": 41,
   "metadata": {},
   "outputs": [],
   "source": [
    "#first, perform a check on a single city."
   ]
  },
  {
   "cell_type": "code",
   "execution_count": 42,
   "metadata": {},
   "outputs": [
    {
     "name": "stdout",
     "output_type": "stream",
     "text": [
      "http://api.openweathermap.org/data/2.5/weather?appid=8bea25d5e18b7c2fb2ee3ac12cec5dad&q=alofi&units=imperial\n"
     ]
    }
   ],
   "source": [
    "url = \"http://api.openweathermap.org/data/2.5/weather?\"\n",
    "city = \"alofi\"\n",
    "units = \"imperial\"\n",
    "\n",
    "# Build query URL\n",
    "query_url = url + \"appid=\" + myKey + \"&q=\" + city + \"&units=imperial\"\n",
    "#note:   adding imperial units will return the temperature in farenheight and the wind speed in miles per hour\n",
    "print(query_url)"
   ]
  },
  {
   "cell_type": "code",
   "execution_count": 43,
   "metadata": {},
   "outputs": [],
   "source": [
    "# Get weather data\n",
    "weather_response = requests.get(query_url)\n",
    "weather_json = weather_response.json()\n"
   ]
  },
  {
   "cell_type": "code",
   "execution_count": 44,
   "metadata": {},
   "outputs": [
    {
     "name": "stdout",
     "output_type": "stream",
     "text": [
      "{\n",
      "    \"base\": \"stations\",\n",
      "    \"clouds\": {\n",
      "        \"all\": 68\n",
      "    },\n",
      "    \"cod\": 200,\n",
      "    \"coord\": {\n",
      "        \"lat\": -19.06,\n",
      "        \"lon\": -169.92\n",
      "    },\n",
      "    \"dt\": 1554058800,\n",
      "    \"id\": 4036284,\n",
      "    \"main\": {\n",
      "        \"humidity\": 94,\n",
      "        \"pressure\": 1010,\n",
      "        \"temp\": 78.8,\n",
      "        \"temp_max\": 78.8,\n",
      "        \"temp_min\": 78.8\n",
      "    },\n",
      "    \"name\": \"Alofi\",\n",
      "    \"sys\": {\n",
      "        \"country\": \"NU\",\n",
      "        \"id\": 7306,\n",
      "        \"message\": 0.0041,\n",
      "        \"sunrise\": 1554053160,\n",
      "        \"sunset\": 1554096080,\n",
      "        \"type\": 1\n",
      "    },\n",
      "    \"weather\": [\n",
      "        {\n",
      "            \"description\": \"broken clouds\",\n",
      "            \"icon\": \"04d\",\n",
      "            \"id\": 803,\n",
      "            \"main\": \"Clouds\"\n",
      "        }\n",
      "    ],\n",
      "    \"wind\": {\n",
      "        \"deg\": 260,\n",
      "        \"speed\": 9.17\n",
      "    }\n",
      "}\n"
     ]
    }
   ],
   "source": [
    "print(json.dumps(weather_json, indent=4, sort_keys=True))"
   ]
  },
  {
   "cell_type": "code",
   "execution_count": 45,
   "metadata": {},
   "outputs": [],
   "source": [
    "#Success!   Able to retrieve a single city.\n",
    "#now retrieve each individual piece of data needed for the loop"
   ]
  },
  {
   "cell_type": "code",
   "execution_count": 46,
   "metadata": {},
   "outputs": [
    {
     "name": "stdout",
     "output_type": "stream",
     "text": [
      "Alofi\n"
     ]
    }
   ],
   "source": [
    "print(weather_json[\"name\"])"
   ]
  },
  {
   "cell_type": "code",
   "execution_count": 47,
   "metadata": {},
   "outputs": [
    {
     "name": "stdout",
     "output_type": "stream",
     "text": [
      "-19.06\n"
     ]
    }
   ],
   "source": [
    "print(weather_json[\"coord\"][\"lat\"])"
   ]
  },
  {
   "cell_type": "code",
   "execution_count": 48,
   "metadata": {},
   "outputs": [
    {
     "name": "stdout",
     "output_type": "stream",
     "text": [
      "78.8\n"
     ]
    }
   ],
   "source": [
    "print(weather_json[\"main\"][\"temp\"])"
   ]
  },
  {
   "cell_type": "code",
   "execution_count": 49,
   "metadata": {},
   "outputs": [
    {
     "name": "stdout",
     "output_type": "stream",
     "text": [
      "94\n"
     ]
    }
   ],
   "source": [
    "print(weather_json[\"main\"][\"humidity\"])"
   ]
  },
  {
   "cell_type": "code",
   "execution_count": 50,
   "metadata": {},
   "outputs": [
    {
     "name": "stdout",
     "output_type": "stream",
     "text": [
      "68\n"
     ]
    }
   ],
   "source": [
    "print(weather_json[\"clouds\"][\"all\"])"
   ]
  },
  {
   "cell_type": "code",
   "execution_count": 51,
   "metadata": {},
   "outputs": [
    {
     "name": "stdout",
     "output_type": "stream",
     "text": [
      "9.17\n"
     ]
    }
   ],
   "source": [
    "print(weather_json[\"wind\"][\"speed\"])"
   ]
  },
  {
   "cell_type": "markdown",
   "metadata": {},
   "source": [
    "### need a dataframe containing city and country to begin\n",
    "NOTE:   the Weather API will take only a city; however, if multiples are found, API responds with a list of results that match a searching word. \n",
    "<BR>\n",
    "Therefore, I will begin with a list of cities and countries which can also be passed to the \n",
    "    <BR>q city name and country code divided by comma, use ISO 3166 country codes\n",
    "        \n",
    "<BR> https://openweathermap.org/current"
   ]
  },
  {
   "cell_type": "code",
   "execution_count": 52,
   "metadata": {},
   "outputs": [
    {
     "data": {
      "text/html": [
       "<div>\n",
       "<style scoped>\n",
       "    .dataframe tbody tr th:only-of-type {\n",
       "        vertical-align: middle;\n",
       "    }\n",
       "\n",
       "    .dataframe tbody tr th {\n",
       "        vertical-align: top;\n",
       "    }\n",
       "\n",
       "    .dataframe thead th {\n",
       "        text-align: right;\n",
       "    }\n",
       "</style>\n",
       "<table border=\"1\" class=\"dataframe\">\n",
       "  <thead>\n",
       "    <tr style=\"text-align: right;\">\n",
       "      <th></th>\n",
       "      <th>city</th>\n",
       "      <th>country</th>\n",
       "    </tr>\n",
       "  </thead>\n",
       "  <tbody>\n",
       "    <tr>\n",
       "      <th>0</th>\n",
       "      <td>punta arenas</td>\n",
       "      <td>cl</td>\n",
       "    </tr>\n",
       "    <tr>\n",
       "      <th>1</th>\n",
       "      <td>salalah</td>\n",
       "      <td>om</td>\n",
       "    </tr>\n",
       "    <tr>\n",
       "      <th>2</th>\n",
       "      <td>bethel</td>\n",
       "      <td>us</td>\n",
       "    </tr>\n",
       "    <tr>\n",
       "      <th>3</th>\n",
       "      <td>mataura</td>\n",
       "      <td>pf</td>\n",
       "    </tr>\n",
       "    <tr>\n",
       "      <th>4</th>\n",
       "      <td>olafsvik</td>\n",
       "      <td>is</td>\n",
       "    </tr>\n",
       "  </tbody>\n",
       "</table>\n",
       "</div>"
      ],
      "text/plain": [
       "           city country\n",
       "0  punta arenas      cl\n",
       "1       salalah      om\n",
       "2        bethel      us\n",
       "3       mataura      pf\n",
       "4      olafsvik      is"
      ]
     },
     "execution_count": 52,
     "metadata": {},
     "output_type": "execute_result"
    }
   ],
   "source": [
    "#Begin with the city and country list which was created in the begining.\n",
    "\n",
    "cityCountry = pd.DataFrame(list(zip(cities, countries)),\n",
    "              columns=['city','country'])\n",
    "\n",
    "cityCountry.head()"
   ]
  },
  {
   "cell_type": "code",
   "execution_count": 53,
   "metadata": {},
   "outputs": [
    {
     "data": {
      "text/plain": [
       "678"
      ]
     },
     "execution_count": 53,
     "metadata": {},
     "output_type": "execute_result"
    }
   ],
   "source": [
    "#confirm there are at least 500 countries\n",
    "len(cityCountry)"
   ]
  },
  {
   "cell_type": "code",
   "execution_count": 54,
   "metadata": {},
   "outputs": [
    {
     "data": {
      "text/html": [
       "<div>\n",
       "<style scoped>\n",
       "    .dataframe tbody tr th:only-of-type {\n",
       "        vertical-align: middle;\n",
       "    }\n",
       "\n",
       "    .dataframe tbody tr th {\n",
       "        vertical-align: top;\n",
       "    }\n",
       "\n",
       "    .dataframe thead th {\n",
       "        text-align: right;\n",
       "    }\n",
       "</style>\n",
       "<table border=\"1\" class=\"dataframe\">\n",
       "  <thead>\n",
       "    <tr style=\"text-align: right;\">\n",
       "      <th></th>\n",
       "      <th>city</th>\n",
       "      <th>country</th>\n",
       "      <th>location</th>\n",
       "      <th>newCity</th>\n",
       "      <th>newCountry</th>\n",
       "      <th>lat</th>\n",
       "      <th>long</th>\n",
       "      <th>tempF</th>\n",
       "      <th>humidity</th>\n",
       "      <th>cloud</th>\n",
       "      <th>windMPH</th>\n",
       "      <th>maxTemp</th>\n",
       "    </tr>\n",
       "  </thead>\n",
       "  <tbody>\n",
       "    <tr>\n",
       "      <th>0</th>\n",
       "      <td>punta arenas</td>\n",
       "      <td>cl</td>\n",
       "      <td>punta arenas, cl</td>\n",
       "      <td></td>\n",
       "      <td></td>\n",
       "      <td></td>\n",
       "      <td></td>\n",
       "      <td></td>\n",
       "      <td></td>\n",
       "      <td></td>\n",
       "      <td></td>\n",
       "      <td></td>\n",
       "    </tr>\n",
       "    <tr>\n",
       "      <th>1</th>\n",
       "      <td>salalah</td>\n",
       "      <td>om</td>\n",
       "      <td>salalah, om</td>\n",
       "      <td></td>\n",
       "      <td></td>\n",
       "      <td></td>\n",
       "      <td></td>\n",
       "      <td></td>\n",
       "      <td></td>\n",
       "      <td></td>\n",
       "      <td></td>\n",
       "      <td></td>\n",
       "    </tr>\n",
       "    <tr>\n",
       "      <th>2</th>\n",
       "      <td>bethel</td>\n",
       "      <td>us</td>\n",
       "      <td>bethel, us</td>\n",
       "      <td></td>\n",
       "      <td></td>\n",
       "      <td></td>\n",
       "      <td></td>\n",
       "      <td></td>\n",
       "      <td></td>\n",
       "      <td></td>\n",
       "      <td></td>\n",
       "      <td></td>\n",
       "    </tr>\n",
       "    <tr>\n",
       "      <th>3</th>\n",
       "      <td>mataura</td>\n",
       "      <td>pf</td>\n",
       "      <td>mataura, pf</td>\n",
       "      <td></td>\n",
       "      <td></td>\n",
       "      <td></td>\n",
       "      <td></td>\n",
       "      <td></td>\n",
       "      <td></td>\n",
       "      <td></td>\n",
       "      <td></td>\n",
       "      <td></td>\n",
       "    </tr>\n",
       "    <tr>\n",
       "      <th>4</th>\n",
       "      <td>olafsvik</td>\n",
       "      <td>is</td>\n",
       "      <td>olafsvik, is</td>\n",
       "      <td></td>\n",
       "      <td></td>\n",
       "      <td></td>\n",
       "      <td></td>\n",
       "      <td></td>\n",
       "      <td></td>\n",
       "      <td></td>\n",
       "      <td></td>\n",
       "      <td></td>\n",
       "    </tr>\n",
       "  </tbody>\n",
       "</table>\n",
       "</div>"
      ],
      "text/plain": [
       "           city country          location newCity newCountry lat long tempF  \\\n",
       "0  punta arenas      cl  punta arenas, cl                                     \n",
       "1       salalah      om       salalah, om                                     \n",
       "2        bethel      us        bethel, us                                     \n",
       "3       mataura      pf       mataura, pf                                     \n",
       "4      olafsvik      is      olafsvik, is                                     \n",
       "\n",
       "  humidity cloud windMPH maxTemp  \n",
       "0                                 \n",
       "1                                 \n",
       "2                                 \n",
       "3                                 \n",
       "4                                 "
      ]
     },
     "execution_count": 54,
     "metadata": {},
     "output_type": "execute_result"
    }
   ],
   "source": [
    "# create a data frome with the values needed for the API calls\n",
    "\n",
    "cityCountry2 = cityCountry\n",
    "cityCountry2[\"location\"] = (cityCountry2[\"city\"] + \", \" + cityCountry2[\"country\"])\n",
    "cityCountry2[\"newCity\"] = \"\"\n",
    "cityCountry2[\"newCountry\"] = \"\"\n",
    "cityCountry2[\"lat\"] = \"\"\n",
    "cityCountry2[\"long\"] = \"\"\n",
    "cityCountry2[\"tempF\"] = \"\"\n",
    "cityCountry2[\"humidity\"] = \"\"\n",
    "cityCountry2[\"cloud\"] = \"\"\n",
    "cityCountry2[\"windMPH\"] = \"\"\n",
    "cityCountry2[\"maxTemp\"] = \"\"\n",
    "cityCountry2.head()"
   ]
  },
  {
   "cell_type": "markdown",
   "metadata": {},
   "source": [
    "## Retrieve data for only 10 cities\n",
    "Practice before attemping to get data for 500+ cities"
   ]
  },
  {
   "cell_type": "code",
   "execution_count": 55,
   "metadata": {},
   "outputs": [
    {
     "data": {
      "text/html": [
       "<div>\n",
       "<style scoped>\n",
       "    .dataframe tbody tr th:only-of-type {\n",
       "        vertical-align: middle;\n",
       "    }\n",
       "\n",
       "    .dataframe tbody tr th {\n",
       "        vertical-align: top;\n",
       "    }\n",
       "\n",
       "    .dataframe thead th {\n",
       "        text-align: right;\n",
       "    }\n",
       "</style>\n",
       "<table border=\"1\" class=\"dataframe\">\n",
       "  <thead>\n",
       "    <tr style=\"text-align: right;\">\n",
       "      <th></th>\n",
       "      <th>city</th>\n",
       "      <th>country</th>\n",
       "      <th>location</th>\n",
       "      <th>newCity</th>\n",
       "      <th>newCountry</th>\n",
       "      <th>lat</th>\n",
       "      <th>long</th>\n",
       "      <th>tempF</th>\n",
       "      <th>humidity</th>\n",
       "      <th>cloud</th>\n",
       "      <th>windMPH</th>\n",
       "      <th>maxTemp</th>\n",
       "    </tr>\n",
       "  </thead>\n",
       "  <tbody>\n",
       "    <tr>\n",
       "      <th>0</th>\n",
       "      <td>punta arenas</td>\n",
       "      <td>cl</td>\n",
       "      <td>punta arenas, cl</td>\n",
       "      <td></td>\n",
       "      <td></td>\n",
       "      <td></td>\n",
       "      <td></td>\n",
       "      <td></td>\n",
       "      <td></td>\n",
       "      <td></td>\n",
       "      <td></td>\n",
       "      <td></td>\n",
       "    </tr>\n",
       "    <tr>\n",
       "      <th>1</th>\n",
       "      <td>salalah</td>\n",
       "      <td>om</td>\n",
       "      <td>salalah, om</td>\n",
       "      <td></td>\n",
       "      <td></td>\n",
       "      <td></td>\n",
       "      <td></td>\n",
       "      <td></td>\n",
       "      <td></td>\n",
       "      <td></td>\n",
       "      <td></td>\n",
       "      <td></td>\n",
       "    </tr>\n",
       "    <tr>\n",
       "      <th>2</th>\n",
       "      <td>bethel</td>\n",
       "      <td>us</td>\n",
       "      <td>bethel, us</td>\n",
       "      <td></td>\n",
       "      <td></td>\n",
       "      <td></td>\n",
       "      <td></td>\n",
       "      <td></td>\n",
       "      <td></td>\n",
       "      <td></td>\n",
       "      <td></td>\n",
       "      <td></td>\n",
       "    </tr>\n",
       "    <tr>\n",
       "      <th>3</th>\n",
       "      <td>mataura</td>\n",
       "      <td>pf</td>\n",
       "      <td>mataura, pf</td>\n",
       "      <td></td>\n",
       "      <td></td>\n",
       "      <td></td>\n",
       "      <td></td>\n",
       "      <td></td>\n",
       "      <td></td>\n",
       "      <td></td>\n",
       "      <td></td>\n",
       "      <td></td>\n",
       "    </tr>\n",
       "    <tr>\n",
       "      <th>4</th>\n",
       "      <td>olafsvik</td>\n",
       "      <td>is</td>\n",
       "      <td>olafsvik, is</td>\n",
       "      <td></td>\n",
       "      <td></td>\n",
       "      <td></td>\n",
       "      <td></td>\n",
       "      <td></td>\n",
       "      <td></td>\n",
       "      <td></td>\n",
       "      <td></td>\n",
       "      <td></td>\n",
       "    </tr>\n",
       "    <tr>\n",
       "      <th>5</th>\n",
       "      <td>inhambane</td>\n",
       "      <td>mz</td>\n",
       "      <td>inhambane, mz</td>\n",
       "      <td></td>\n",
       "      <td></td>\n",
       "      <td></td>\n",
       "      <td></td>\n",
       "      <td></td>\n",
       "      <td></td>\n",
       "      <td></td>\n",
       "      <td></td>\n",
       "      <td></td>\n",
       "    </tr>\n",
       "    <tr>\n",
       "      <th>6</th>\n",
       "      <td>busselton</td>\n",
       "      <td>au</td>\n",
       "      <td>busselton, au</td>\n",
       "      <td></td>\n",
       "      <td></td>\n",
       "      <td></td>\n",
       "      <td></td>\n",
       "      <td></td>\n",
       "      <td></td>\n",
       "      <td></td>\n",
       "      <td></td>\n",
       "      <td></td>\n",
       "    </tr>\n",
       "    <tr>\n",
       "      <th>7</th>\n",
       "      <td>palabuhanratu</td>\n",
       "      <td>id</td>\n",
       "      <td>palabuhanratu, id</td>\n",
       "      <td></td>\n",
       "      <td></td>\n",
       "      <td></td>\n",
       "      <td></td>\n",
       "      <td></td>\n",
       "      <td></td>\n",
       "      <td></td>\n",
       "      <td></td>\n",
       "      <td></td>\n",
       "    </tr>\n",
       "    <tr>\n",
       "      <th>8</th>\n",
       "      <td>blackwater</td>\n",
       "      <td>au</td>\n",
       "      <td>blackwater, au</td>\n",
       "      <td></td>\n",
       "      <td></td>\n",
       "      <td></td>\n",
       "      <td></td>\n",
       "      <td></td>\n",
       "      <td></td>\n",
       "      <td></td>\n",
       "      <td></td>\n",
       "      <td></td>\n",
       "    </tr>\n",
       "    <tr>\n",
       "      <th>9</th>\n",
       "      <td>xiongyue</td>\n",
       "      <td>cn</td>\n",
       "      <td>xiongyue, cn</td>\n",
       "      <td></td>\n",
       "      <td></td>\n",
       "      <td></td>\n",
       "      <td></td>\n",
       "      <td></td>\n",
       "      <td></td>\n",
       "      <td></td>\n",
       "      <td></td>\n",
       "      <td></td>\n",
       "    </tr>\n",
       "  </tbody>\n",
       "</table>\n",
       "</div>"
      ],
      "text/plain": [
       "            city country           location newCity newCountry lat long tempF  \\\n",
       "0   punta arenas      cl   punta arenas, cl                                     \n",
       "1        salalah      om        salalah, om                                     \n",
       "2         bethel      us         bethel, us                                     \n",
       "3        mataura      pf        mataura, pf                                     \n",
       "4       olafsvik      is       olafsvik, is                                     \n",
       "5      inhambane      mz      inhambane, mz                                     \n",
       "6      busselton      au      busselton, au                                     \n",
       "7  palabuhanratu      id  palabuhanratu, id                                     \n",
       "8     blackwater      au     blackwater, au                                     \n",
       "9       xiongyue      cn       xiongyue, cn                                     \n",
       "\n",
       "  humidity cloud windMPH maxTemp  \n",
       "0                                 \n",
       "1                                 \n",
       "2                                 \n",
       "3                                 \n",
       "4                                 \n",
       "5                                 \n",
       "6                                 \n",
       "7                                 \n",
       "8                                 \n",
       "9                                 "
      ]
     },
     "execution_count": 55,
     "metadata": {},
     "output_type": "execute_result"
    }
   ],
   "source": [
    "#create a new df with only 10 records\n",
    "cityCountrySample = cityCountry2.head(10)\n",
    "cityCountrySample.head(20)"
   ]
  },
  {
   "cell_type": "code",
   "execution_count": 56,
   "metadata": {},
   "outputs": [],
   "source": [
    "#ensure I can get a single response using parameters\n",
    "parameters = {\"appid\": myKey,\n",
    "             \"units\": \"imperial\",\n",
    "             \"q\": \"vaini, to\"}\n",
    "base_url = \"http://api.openweathermap.org/data/2.5/weather?\""
   ]
  },
  {
   "cell_type": "code",
   "execution_count": 57,
   "metadata": {},
   "outputs": [],
   "source": [
    "#make the response in json format by adding .json()\n",
    "singleResponse = requests.get(base_url, params=parameters)"
   ]
  },
  {
   "cell_type": "code",
   "execution_count": 58,
   "metadata": {},
   "outputs": [
    {
     "name": "stdout",
     "output_type": "stream",
     "text": [
      "http://api.openweathermap.org/data/2.5/weather?appid=8bea25d5e18b7c2fb2ee3ac12cec5dad&units=imperial&q=vaini%2C+to\n"
     ]
    }
   ],
   "source": [
    "print(singleResponse.url)"
   ]
  },
  {
   "cell_type": "code",
   "execution_count": 59,
   "metadata": {},
   "outputs": [],
   "source": [
    "singleResponseJ = singleResponse.json()"
   ]
  },
  {
   "cell_type": "code",
   "execution_count": 60,
   "metadata": {},
   "outputs": [
    {
     "name": "stdout",
     "output_type": "stream",
     "text": [
      "{\n",
      "    \"base\": \"stations\",\n",
      "    \"clouds\": {\n",
      "        \"all\": 20\n",
      "    },\n",
      "    \"cod\": 200,\n",
      "    \"coord\": {\n",
      "        \"lat\": -21.2,\n",
      "        \"lon\": -175.2\n",
      "    },\n",
      "    \"dt\": 1554058800,\n",
      "    \"id\": 4032243,\n",
      "    \"main\": {\n",
      "        \"humidity\": 94,\n",
      "        \"pressure\": 1010,\n",
      "        \"temp\": 77,\n",
      "        \"temp_max\": 77,\n",
      "        \"temp_min\": 77\n",
      "    },\n",
      "    \"name\": \"Vaini\",\n",
      "    \"sys\": {\n",
      "        \"country\": \"TO\",\n",
      "        \"id\": 7285,\n",
      "        \"message\": 0.005,\n",
      "        \"sunrise\": 1554140885,\n",
      "        \"sunset\": 1554183652,\n",
      "        \"type\": 1\n",
      "    },\n",
      "    \"visibility\": 10000,\n",
      "    \"weather\": [\n",
      "        {\n",
      "            \"description\": \"few clouds\",\n",
      "            \"icon\": \"02d\",\n",
      "            \"id\": 801,\n",
      "            \"main\": \"Clouds\"\n",
      "        }\n",
      "    ],\n",
      "    \"wind\": {\n",
      "        \"deg\": 140,\n",
      "        \"speed\": 8.05\n",
      "    }\n",
      "}\n"
     ]
    }
   ],
   "source": [
    "print(json.dumps(singleResponseJ, indent=4, sort_keys=True))"
   ]
  },
  {
   "cell_type": "code",
   "execution_count": 61,
   "metadata": {},
   "outputs": [
    {
     "name": "stdout",
     "output_type": "stream",
     "text": [
      "Vaini\n"
     ]
    }
   ],
   "source": [
    "print(singleResponseJ[\"name\"])"
   ]
  },
  {
   "cell_type": "code",
   "execution_count": 62,
   "metadata": {},
   "outputs": [],
   "source": [
    "#success!  I can get a valid URL using parameters.  "
   ]
  },
  {
   "cell_type": "code",
   "execution_count": 63,
   "metadata": {},
   "outputs": [
    {
     "name": "stdout",
     "output_type": "stream",
     "text": [
      "Number of cities to begin: 678\n"
     ]
    }
   ],
   "source": [
    "#begin by knowing the number of cities\n",
    "print(\"Number of cities to begin: \" + str(len(cityCountry))) "
   ]
  },
  {
   "cell_type": "code",
   "execution_count": 64,
   "metadata": {},
   "outputs": [],
   "source": [
    "pd.options.mode.chained_assignment = None  # default='warn'   Adding to ignore the warning for appending the values in the next step."
   ]
  },
  {
   "cell_type": "code",
   "execution_count": 76,
   "metadata": {},
   "outputs": [
    {
     "name": "stdout",
     "output_type": "stream",
     "text": [
      "---------------------------------------------\n",
      "Beginning Data Retrieval\n",
      "---------------------------------------------\n",
      "Number of cities to obtain data: 678\n",
      "---------------------------------------------\n",
      "Retrieving index # 0 | punta arenas, cl\n",
      "  http://api.openweathermap.org/data/2.5/weather?appid=8bea25d5e18b7c2fb2ee3ac12cec5dad&units=imperial&q=punta+arenas%2Ccl\n",
      "Retrieving index # 1 | salalah, om\n",
      "  http://api.openweathermap.org/data/2.5/weather?appid=8bea25d5e18b7c2fb2ee3ac12cec5dad&units=imperial&q=salalah%2Com\n",
      "Retrieving index # 2 | bethel, us\n",
      "  http://api.openweathermap.org/data/2.5/weather?appid=8bea25d5e18b7c2fb2ee3ac12cec5dad&units=imperial&q=bethel%2Cus\n",
      "Retrieving index # 3 | mataura, pf\n",
      "  http://api.openweathermap.org/data/2.5/weather?appid=8bea25d5e18b7c2fb2ee3ac12cec5dad&units=imperial&q=mataura%2Cpf\n",
      "     Missing city name... skipping data.\n",
      "     Missing country name... skipping data.\n",
      "     Missing latitude... skipping data.\n",
      "     Missing longitude... skipping data.\n",
      "     Missing temp(F)... skipping data.\n",
      "     Missing humidity... skipping data.\n",
      "     Missing %of cloudiness... skipping data.\n",
      "     Missing wind speed... skipping data.\n",
      "     Missing maximum temperature... skipping data.\n",
      "Retrieving index # 4 | olafsvik, is\n",
      "  http://api.openweathermap.org/data/2.5/weather?appid=8bea25d5e18b7c2fb2ee3ac12cec5dad&units=imperial&q=olafsvik%2Cis\n",
      "     Missing city name... skipping data.\n",
      "     Missing country name... skipping data.\n",
      "     Missing latitude... skipping data.\n",
      "     Missing longitude... skipping data.\n",
      "     Missing temp(F)... skipping data.\n",
      "     Missing humidity... skipping data.\n",
      "     Missing %of cloudiness... skipping data.\n",
      "     Missing wind speed... skipping data.\n",
      "     Missing maximum temperature... skipping data.\n",
      "Retrieving index # 5 | inhambane, mz\n",
      "  http://api.openweathermap.org/data/2.5/weather?appid=8bea25d5e18b7c2fb2ee3ac12cec5dad&units=imperial&q=inhambane%2Cmz\n",
      "Retrieving index # 6 | busselton, au\n",
      "  http://api.openweathermap.org/data/2.5/weather?appid=8bea25d5e18b7c2fb2ee3ac12cec5dad&units=imperial&q=busselton%2Cau\n",
      "Retrieving index # 7 | palabuhanratu, id\n",
      "  http://api.openweathermap.org/data/2.5/weather?appid=8bea25d5e18b7c2fb2ee3ac12cec5dad&units=imperial&q=palabuhanratu%2Cid\n",
      "     Missing city name... skipping data.\n",
      "     Missing country name... skipping data.\n",
      "     Missing latitude... skipping data.\n",
      "     Missing longitude... skipping data.\n",
      "     Missing temp(F)... skipping data.\n",
      "     Missing humidity... skipping data.\n",
      "     Missing %of cloudiness... skipping data.\n",
      "     Missing wind speed... skipping data.\n",
      "     Missing maximum temperature... skipping data.\n",
      "Retrieving index # 8 | blackwater, au\n",
      "  http://api.openweathermap.org/data/2.5/weather?appid=8bea25d5e18b7c2fb2ee3ac12cec5dad&units=imperial&q=blackwater%2Cau\n",
      "Retrieving index # 9 | xiongyue, cn\n",
      "  http://api.openweathermap.org/data/2.5/weather?appid=8bea25d5e18b7c2fb2ee3ac12cec5dad&units=imperial&q=xiongyue%2Ccn\n",
      "---------------------------------------------\n",
      "Date Retrieval Complete\n",
      "---------------------------------------------\n"
     ]
    },
    {
     "data": {
      "text/html": [
       "<div>\n",
       "<style scoped>\n",
       "    .dataframe tbody tr th:only-of-type {\n",
       "        vertical-align: middle;\n",
       "    }\n",
       "\n",
       "    .dataframe tbody tr th {\n",
       "        vertical-align: top;\n",
       "    }\n",
       "\n",
       "    .dataframe thead th {\n",
       "        text-align: right;\n",
       "    }\n",
       "</style>\n",
       "<table border=\"1\" class=\"dataframe\">\n",
       "  <thead>\n",
       "    <tr style=\"text-align: right;\">\n",
       "      <th></th>\n",
       "      <th>city</th>\n",
       "      <th>country</th>\n",
       "      <th>location</th>\n",
       "      <th>newCity</th>\n",
       "      <th>newCountry</th>\n",
       "      <th>lat</th>\n",
       "      <th>long</th>\n",
       "      <th>tempF</th>\n",
       "      <th>humidity</th>\n",
       "      <th>cloud</th>\n",
       "      <th>windMPH</th>\n",
       "      <th>maxTemp</th>\n",
       "    </tr>\n",
       "  </thead>\n",
       "  <tbody>\n",
       "    <tr>\n",
       "      <th>0</th>\n",
       "      <td>punta arenas</td>\n",
       "      <td>cl</td>\n",
       "      <td>punta arenas, cl</td>\n",
       "      <td>Punta Arenas</td>\n",
       "      <td>CL</td>\n",
       "      <td>-53.16</td>\n",
       "      <td>-70.91</td>\n",
       "      <td>55.18</td>\n",
       "      <td>66</td>\n",
       "      <td>75</td>\n",
       "      <td>13.87</td>\n",
       "      <td>55.4</td>\n",
       "    </tr>\n",
       "    <tr>\n",
       "      <th>1</th>\n",
       "      <td>salalah</td>\n",
       "      <td>om</td>\n",
       "      <td>salalah, om</td>\n",
       "      <td>Salalah</td>\n",
       "      <td>OM</td>\n",
       "      <td>17.01</td>\n",
       "      <td>54.1</td>\n",
       "      <td>78.8</td>\n",
       "      <td>74</td>\n",
       "      <td>40</td>\n",
       "      <td>4.7</td>\n",
       "      <td>78.8</td>\n",
       "    </tr>\n",
       "    <tr>\n",
       "      <th>2</th>\n",
       "      <td>bethel</td>\n",
       "      <td>us</td>\n",
       "      <td>bethel, us</td>\n",
       "      <td>Bethel</td>\n",
       "      <td>US</td>\n",
       "      <td>60.79</td>\n",
       "      <td>-161.76</td>\n",
       "      <td>40.06</td>\n",
       "      <td>70</td>\n",
       "      <td>1</td>\n",
       "      <td>3.36</td>\n",
       "      <td>42.8</td>\n",
       "    </tr>\n",
       "    <tr>\n",
       "      <th>3</th>\n",
       "      <td>mataura</td>\n",
       "      <td>pf</td>\n",
       "      <td>mataura, pf</td>\n",
       "      <td></td>\n",
       "      <td></td>\n",
       "      <td></td>\n",
       "      <td></td>\n",
       "      <td></td>\n",
       "      <td></td>\n",
       "      <td></td>\n",
       "      <td></td>\n",
       "      <td></td>\n",
       "    </tr>\n",
       "    <tr>\n",
       "      <th>4</th>\n",
       "      <td>olafsvik</td>\n",
       "      <td>is</td>\n",
       "      <td>olafsvik, is</td>\n",
       "      <td></td>\n",
       "      <td></td>\n",
       "      <td></td>\n",
       "      <td></td>\n",
       "      <td></td>\n",
       "      <td></td>\n",
       "      <td></td>\n",
       "      <td></td>\n",
       "      <td></td>\n",
       "    </tr>\n",
       "    <tr>\n",
       "      <th>5</th>\n",
       "      <td>inhambane</td>\n",
       "      <td>mz</td>\n",
       "      <td>inhambane, mz</td>\n",
       "      <td>Inhambane</td>\n",
       "      <td>MZ</td>\n",
       "      <td>-23.87</td>\n",
       "      <td>35.38</td>\n",
       "      <td>71.21</td>\n",
       "      <td>100</td>\n",
       "      <td>0</td>\n",
       "      <td>6.38</td>\n",
       "      <td>71.21</td>\n",
       "    </tr>\n",
       "    <tr>\n",
       "      <th>6</th>\n",
       "      <td>busselton</td>\n",
       "      <td>au</td>\n",
       "      <td>busselton, au</td>\n",
       "      <td>Busselton</td>\n",
       "      <td>AU</td>\n",
       "      <td>-33.64</td>\n",
       "      <td>115.35</td>\n",
       "      <td>67.73</td>\n",
       "      <td>39</td>\n",
       "      <td>44</td>\n",
       "      <td>15.21</td>\n",
       "      <td>71.01</td>\n",
       "    </tr>\n",
       "    <tr>\n",
       "      <th>7</th>\n",
       "      <td>palabuhanratu</td>\n",
       "      <td>id</td>\n",
       "      <td>palabuhanratu, id</td>\n",
       "      <td></td>\n",
       "      <td></td>\n",
       "      <td></td>\n",
       "      <td></td>\n",
       "      <td></td>\n",
       "      <td></td>\n",
       "      <td></td>\n",
       "      <td></td>\n",
       "      <td></td>\n",
       "    </tr>\n",
       "    <tr>\n",
       "      <th>8</th>\n",
       "      <td>blackwater</td>\n",
       "      <td>au</td>\n",
       "      <td>blackwater, au</td>\n",
       "      <td>Blackwater</td>\n",
       "      <td>AU</td>\n",
       "      <td>-23.58</td>\n",
       "      <td>148.88</td>\n",
       "      <td>53.75</td>\n",
       "      <td>62</td>\n",
       "      <td>0</td>\n",
       "      <td>8.5</td>\n",
       "      <td>53.75</td>\n",
       "    </tr>\n",
       "    <tr>\n",
       "      <th>9</th>\n",
       "      <td>xiongyue</td>\n",
       "      <td>cn</td>\n",
       "      <td>xiongyue, cn</td>\n",
       "      <td>Xiongyue</td>\n",
       "      <td>CN</td>\n",
       "      <td>40.18</td>\n",
       "      <td>122.12</td>\n",
       "      <td>18.38</td>\n",
       "      <td>65</td>\n",
       "      <td>0</td>\n",
       "      <td>2.46</td>\n",
       "      <td>18.38</td>\n",
       "    </tr>\n",
       "  </tbody>\n",
       "</table>\n",
       "</div>"
      ],
      "text/plain": [
       "            city country           location       newCity newCountry    lat  \\\n",
       "0   punta arenas      cl   punta arenas, cl  Punta Arenas         CL -53.16   \n",
       "1        salalah      om        salalah, om       Salalah         OM  17.01   \n",
       "2         bethel      us         bethel, us        Bethel         US  60.79   \n",
       "3        mataura      pf        mataura, pf                                   \n",
       "4       olafsvik      is       olafsvik, is                                   \n",
       "5      inhambane      mz      inhambane, mz     Inhambane         MZ -23.87   \n",
       "6      busselton      au      busselton, au     Busselton         AU -33.64   \n",
       "7  palabuhanratu      id  palabuhanratu, id                                   \n",
       "8     blackwater      au     blackwater, au    Blackwater         AU -23.58   \n",
       "9       xiongyue      cn       xiongyue, cn      Xiongyue         CN  40.18   \n",
       "\n",
       "     long  tempF humidity cloud windMPH maxTemp  \n",
       "0  -70.91  55.18       66    75   13.87    55.4  \n",
       "1    54.1   78.8       74    40     4.7    78.8  \n",
       "2 -161.76  40.06       70     1    3.36    42.8  \n",
       "3                                                \n",
       "4                                                \n",
       "5   35.38  71.21      100     0    6.38   71.21  \n",
       "6  115.35  67.73       39    44   15.21   71.01  \n",
       "7                                                \n",
       "8  148.88  53.75       62     0     8.5   53.75  \n",
       "9  122.12  18.38       65     0    2.46   18.38  "
      ]
     },
     "execution_count": 76,
     "metadata": {},
     "output_type": "execute_result"
    }
   ],
   "source": [
    "# create a parameters dict that will be updated with new city each iteration\n",
    "parameters = {\"appid\": myKey,\n",
    "             \"units\": \"imperial\"}\n",
    "\n",
    "print(\"---------------------------------------------\") \n",
    "print(\"Beginning Data Retrieval\")\n",
    "print(\"---------------------------------------------\") \n",
    "      \n",
    "#begin by knowing the number of cities\n",
    "print(\"Number of cities to obtain data: \" + str(len(cityCountry))) \n",
    "print(\"---------------------------------------------\")       \n",
    "\n",
    "# Loop through the cityCountrySample and perform a search on each\n",
    "for index, row in cityCountrySample.iterrows():\n",
    "    base_url = \"http://api.openweathermap.org/data/2.5/weather?\"\n",
    "\n",
    "    city = row['city']\n",
    "    country = row['country']\n",
    "\n",
    "    # update address key value\n",
    "    parameters['q'] = f\"{city},{country}\"\n",
    "\n",
    "    # make request\n",
    "    cities_data = requests.get(base_url, params=parameters)\n",
    "    \n",
    "    #print the record number  ??? how do I print the index number?\n",
    "    print(\"Retrieving index # \" + str(index) + \" | \" + row[\"city\"] + \", \" + row[\"country\"])\n",
    "    \n",
    "    #confirm the URL\n",
    "    print(\"  \" + (cities_data.url))\n",
    "        \n",
    "    # convert to json\n",
    "    citiesJ = cities_data.json()\n",
    "    \n",
    "    try:\n",
    "        cityCountrySample.loc[index, \"newCity\"] = citiesJ[\"name\"]\n",
    "    except:\n",
    "        print(\"     Missing city name... skipping data.\")     \n",
    "    \n",
    "    try:    \n",
    "        cityCountrySample.loc[index, \"newCountry\"] = citiesJ[\"sys\"][\"country\"]\n",
    "    except: \n",
    "        print(\"     Missing country name... skipping data.\")\n",
    " \n",
    "    try:    \n",
    "        cityCountrySample.loc[index, \"lat\"] = citiesJ[\"coord\"][\"lat\"]\n",
    "    except: \n",
    "        print(\"     Missing latitude... skipping data.\")\n",
    "        \n",
    "    try:    \n",
    "        cityCountrySample.loc[index, \"long\"] = citiesJ[\"coord\"][\"lon\"]\n",
    "    except: \n",
    "        print(\"     Missing longitude... skipping data.\")\n",
    "        \n",
    "    try:    \n",
    "        cityCountrySample.loc[index, \"tempF\"] = citiesJ[\"main\"][\"temp\"]\n",
    "    except: \n",
    "        print(\"     Missing temp(F)... skipping data.\")\n",
    "        \n",
    "    try:    \n",
    "        cityCountrySample.loc[index, \"humidity\"] = citiesJ[\"main\"][\"humidity\"]\n",
    "    except: \n",
    "        print(\"     Missing humidity... skipping data.\")\n",
    "        \n",
    "    try:    \n",
    "        cityCountrySample.loc[index, \"cloud\"] = citiesJ[\"clouds\"][\"all\"]\n",
    "    except: \n",
    "        print(\"     Missing %of cloudiness... skipping data.\")\n",
    "     \n",
    "    try:    \n",
    "        cityCountrySample.loc[index, \"windMPH\"] = citiesJ[\"wind\"][\"speed\"]\n",
    "    except: \n",
    "        print(\"     Missing wind speed... skipping data.\")\n",
    "        \n",
    "    try:    \n",
    "        cityCountrySample.loc[index, \"maxTemp\"] = citiesJ[\"main\"][\"temp_max\"]\n",
    "    except: \n",
    "        print(\"     Missing maximum temperature... skipping data.\")\n",
    "    \n",
    "    #the openweather API is free for up to 60 calls per minute.  Add a sleep timer to wait .75 seconds between calls.\n",
    "    time.sleep(.75)\n",
    "\n",
    "print(\"---------------------------------------------\")   \n",
    "print(\"Date Retrieval Complete\")\n",
    "print(\"---------------------------------------------\")   \n",
    "    \n",
    "# Visualize to confirm new city and new country appear\n",
    "cityCountrySample.head(10)\n"
   ]
  },
  {
   "cell_type": "code",
   "execution_count": 73,
   "metadata": {},
   "outputs": [
    {
     "data": {
      "text/plain": [
       "city          0\n",
       "country       0\n",
       "location      0\n",
       "newCity       3\n",
       "newCountry    3\n",
       "lat           3\n",
       "long          3\n",
       "tempF         3\n",
       "humidity      3\n",
       "cloud         6\n",
       "windMPH       3\n",
       "maxTemp       3\n",
       "dtype: int64"
      ]
     },
     "execution_count": 73,
     "metadata": {},
     "output_type": "execute_result"
    }
   ],
   "source": [
    "#determine the number of columns with no values\n",
    "#https://stackoverflow.com/questions/43815851/python-dataframe-get-null-value-counts\n",
    "cityCountrySample.applymap(lambda x: not x or pd.isnull(x)).sum()\n"
   ]
  },
  {
   "cell_type": "code",
   "execution_count": 80,
   "metadata": {},
   "outputs": [
    {
     "data": {
      "text/html": [
       "<div>\n",
       "<style scoped>\n",
       "    .dataframe tbody tr th:only-of-type {\n",
       "        vertical-align: middle;\n",
       "    }\n",
       "\n",
       "    .dataframe tbody tr th {\n",
       "        vertical-align: top;\n",
       "    }\n",
       "\n",
       "    .dataframe thead th {\n",
       "        text-align: right;\n",
       "    }\n",
       "</style>\n",
       "<table border=\"1\" class=\"dataframe\">\n",
       "  <thead>\n",
       "    <tr style=\"text-align: right;\">\n",
       "      <th></th>\n",
       "      <th>city</th>\n",
       "      <th>country</th>\n",
       "      <th>location</th>\n",
       "      <th>newCity</th>\n",
       "      <th>newCountry</th>\n",
       "      <th>lat</th>\n",
       "      <th>long</th>\n",
       "      <th>tempF</th>\n",
       "      <th>humidity</th>\n",
       "      <th>cloud</th>\n",
       "      <th>windMPH</th>\n",
       "      <th>maxTemp</th>\n",
       "    </tr>\n",
       "  </thead>\n",
       "  <tbody>\n",
       "    <tr>\n",
       "      <th>count</th>\n",
       "      <td>10</td>\n",
       "      <td>10</td>\n",
       "      <td>10</td>\n",
       "      <td>10</td>\n",
       "      <td>10</td>\n",
       "      <td>10</td>\n",
       "      <td>10</td>\n",
       "      <td>10</td>\n",
       "      <td>10</td>\n",
       "      <td>10</td>\n",
       "      <td>10</td>\n",
       "      <td>10</td>\n",
       "    </tr>\n",
       "    <tr>\n",
       "      <th>unique</th>\n",
       "      <td>10</td>\n",
       "      <td>9</td>\n",
       "      <td>10</td>\n",
       "      <td>8</td>\n",
       "      <td>7</td>\n",
       "      <td>8</td>\n",
       "      <td>8</td>\n",
       "      <td>8</td>\n",
       "      <td>8</td>\n",
       "      <td>6</td>\n",
       "      <td>8</td>\n",
       "      <td>8</td>\n",
       "    </tr>\n",
       "    <tr>\n",
       "      <th>top</th>\n",
       "      <td>olafsvik</td>\n",
       "      <td>au</td>\n",
       "      <td>busselton, au</td>\n",
       "      <td></td>\n",
       "      <td></td>\n",
       "      <td></td>\n",
       "      <td></td>\n",
       "      <td></td>\n",
       "      <td></td>\n",
       "      <td>0</td>\n",
       "      <td></td>\n",
       "      <td></td>\n",
       "    </tr>\n",
       "    <tr>\n",
       "      <th>freq</th>\n",
       "      <td>1</td>\n",
       "      <td>2</td>\n",
       "      <td>1</td>\n",
       "      <td>3</td>\n",
       "      <td>3</td>\n",
       "      <td>3</td>\n",
       "      <td>3</td>\n",
       "      <td>3</td>\n",
       "      <td>3</td>\n",
       "      <td>3</td>\n",
       "      <td>3</td>\n",
       "      <td>3</td>\n",
       "    </tr>\n",
       "  </tbody>\n",
       "</table>\n",
       "</div>"
      ],
      "text/plain": [
       "            city country       location newCity newCountry lat long tempF  \\\n",
       "count         10      10             10      10         10  10   10    10   \n",
       "unique        10       9             10       8          7   8    8     8   \n",
       "top     olafsvik      au  busselton, au                                     \n",
       "freq           1       2              1       3          3   3    3     3   \n",
       "\n",
       "       humidity  cloud windMPH maxTemp  \n",
       "count        10     10      10      10  \n",
       "unique        8      6       8       8  \n",
       "top                  0                  \n",
       "freq          3      3       3       3  "
      ]
     },
     "execution_count": 80,
     "metadata": {},
     "output_type": "execute_result"
    }
   ],
   "source": [
    "cityCountrySample.describe()"
   ]
  },
  {
   "cell_type": "code",
   "execution_count": 90,
   "metadata": {},
   "outputs": [
    {
     "data": {
      "text/html": [
       "<div>\n",
       "<style scoped>\n",
       "    .dataframe tbody tr th:only-of-type {\n",
       "        vertical-align: middle;\n",
       "    }\n",
       "\n",
       "    .dataframe tbody tr th {\n",
       "        vertical-align: top;\n",
       "    }\n",
       "\n",
       "    .dataframe thead th {\n",
       "        text-align: right;\n",
       "    }\n",
       "</style>\n",
       "<table border=\"1\" class=\"dataframe\">\n",
       "  <thead>\n",
       "    <tr style=\"text-align: right;\">\n",
       "      <th></th>\n",
       "      <th>city</th>\n",
       "      <th>country</th>\n",
       "      <th>location</th>\n",
       "      <th>newCity</th>\n",
       "      <th>newCountry</th>\n",
       "      <th>lat</th>\n",
       "      <th>long</th>\n",
       "      <th>tempF</th>\n",
       "      <th>humidity</th>\n",
       "      <th>cloud</th>\n",
       "      <th>windMPH</th>\n",
       "      <th>maxTemp</th>\n",
       "    </tr>\n",
       "  </thead>\n",
       "  <tbody>\n",
       "    <tr>\n",
       "      <th>0</th>\n",
       "      <td>punta arenas</td>\n",
       "      <td>cl</td>\n",
       "      <td>punta arenas, cl</td>\n",
       "      <td>Punta Arenas</td>\n",
       "      <td>CL</td>\n",
       "      <td>-53.16</td>\n",
       "      <td>-70.91</td>\n",
       "      <td>55.18</td>\n",
       "      <td>66</td>\n",
       "      <td>75</td>\n",
       "      <td>13.87</td>\n",
       "      <td>55.4</td>\n",
       "    </tr>\n",
       "    <tr>\n",
       "      <th>1</th>\n",
       "      <td>salalah</td>\n",
       "      <td>om</td>\n",
       "      <td>salalah, om</td>\n",
       "      <td>Salalah</td>\n",
       "      <td>OM</td>\n",
       "      <td>17.01</td>\n",
       "      <td>54.1</td>\n",
       "      <td>78.8</td>\n",
       "      <td>74</td>\n",
       "      <td>40</td>\n",
       "      <td>4.7</td>\n",
       "      <td>78.8</td>\n",
       "    </tr>\n",
       "    <tr>\n",
       "      <th>2</th>\n",
       "      <td>bethel</td>\n",
       "      <td>us</td>\n",
       "      <td>bethel, us</td>\n",
       "      <td>Bethel</td>\n",
       "      <td>US</td>\n",
       "      <td>60.79</td>\n",
       "      <td>-161.76</td>\n",
       "      <td>40.06</td>\n",
       "      <td>70</td>\n",
       "      <td>1</td>\n",
       "      <td>3.36</td>\n",
       "      <td>42.8</td>\n",
       "    </tr>\n",
       "    <tr>\n",
       "      <th>3</th>\n",
       "      <td>mataura</td>\n",
       "      <td>pf</td>\n",
       "      <td>mataura, pf</td>\n",
       "      <td></td>\n",
       "      <td></td>\n",
       "      <td></td>\n",
       "      <td></td>\n",
       "      <td></td>\n",
       "      <td></td>\n",
       "      <td></td>\n",
       "      <td></td>\n",
       "      <td></td>\n",
       "    </tr>\n",
       "    <tr>\n",
       "      <th>4</th>\n",
       "      <td>olafsvik</td>\n",
       "      <td>is</td>\n",
       "      <td>olafsvik, is</td>\n",
       "      <td></td>\n",
       "      <td></td>\n",
       "      <td></td>\n",
       "      <td></td>\n",
       "      <td></td>\n",
       "      <td></td>\n",
       "      <td></td>\n",
       "      <td></td>\n",
       "      <td></td>\n",
       "    </tr>\n",
       "    <tr>\n",
       "      <th>5</th>\n",
       "      <td>inhambane</td>\n",
       "      <td>mz</td>\n",
       "      <td>inhambane, mz</td>\n",
       "      <td>Inhambane</td>\n",
       "      <td>MZ</td>\n",
       "      <td>-23.87</td>\n",
       "      <td>35.38</td>\n",
       "      <td>71.21</td>\n",
       "      <td>100</td>\n",
       "      <td>0</td>\n",
       "      <td>6.38</td>\n",
       "      <td>71.21</td>\n",
       "    </tr>\n",
       "    <tr>\n",
       "      <th>6</th>\n",
       "      <td>busselton</td>\n",
       "      <td>au</td>\n",
       "      <td>busselton, au</td>\n",
       "      <td>Busselton</td>\n",
       "      <td>AU</td>\n",
       "      <td>-33.64</td>\n",
       "      <td>115.35</td>\n",
       "      <td>67.73</td>\n",
       "      <td>39</td>\n",
       "      <td>44</td>\n",
       "      <td>15.21</td>\n",
       "      <td>71.01</td>\n",
       "    </tr>\n",
       "    <tr>\n",
       "      <th>7</th>\n",
       "      <td>palabuhanratu</td>\n",
       "      <td>id</td>\n",
       "      <td>palabuhanratu, id</td>\n",
       "      <td></td>\n",
       "      <td></td>\n",
       "      <td></td>\n",
       "      <td></td>\n",
       "      <td></td>\n",
       "      <td></td>\n",
       "      <td></td>\n",
       "      <td></td>\n",
       "      <td></td>\n",
       "    </tr>\n",
       "    <tr>\n",
       "      <th>8</th>\n",
       "      <td>blackwater</td>\n",
       "      <td>au</td>\n",
       "      <td>blackwater, au</td>\n",
       "      <td>Blackwater</td>\n",
       "      <td>AU</td>\n",
       "      <td>-23.58</td>\n",
       "      <td>148.88</td>\n",
       "      <td>53.75</td>\n",
       "      <td>62</td>\n",
       "      <td>0</td>\n",
       "      <td>8.5</td>\n",
       "      <td>53.75</td>\n",
       "    </tr>\n",
       "    <tr>\n",
       "      <th>9</th>\n",
       "      <td>xiongyue</td>\n",
       "      <td>cn</td>\n",
       "      <td>xiongyue, cn</td>\n",
       "      <td>Xiongyue</td>\n",
       "      <td>CN</td>\n",
       "      <td>40.18</td>\n",
       "      <td>122.12</td>\n",
       "      <td>18.38</td>\n",
       "      <td>65</td>\n",
       "      <td>0</td>\n",
       "      <td>2.46</td>\n",
       "      <td>18.38</td>\n",
       "    </tr>\n",
       "  </tbody>\n",
       "</table>\n",
       "</div>"
      ],
      "text/plain": [
       "            city country           location       newCity newCountry    lat  \\\n",
       "0   punta arenas      cl   punta arenas, cl  Punta Arenas         CL -53.16   \n",
       "1        salalah      om        salalah, om       Salalah         OM  17.01   \n",
       "2         bethel      us         bethel, us        Bethel         US  60.79   \n",
       "3        mataura      pf        mataura, pf                                   \n",
       "4       olafsvik      is       olafsvik, is                                   \n",
       "5      inhambane      mz      inhambane, mz     Inhambane         MZ -23.87   \n",
       "6      busselton      au      busselton, au     Busselton         AU -33.64   \n",
       "7  palabuhanratu      id  palabuhanratu, id                                   \n",
       "8     blackwater      au     blackwater, au    Blackwater         AU -23.58   \n",
       "9       xiongyue      cn       xiongyue, cn      Xiongyue         CN  40.18   \n",
       "\n",
       "     long  tempF humidity cloud windMPH maxTemp  \n",
       "0  -70.91  55.18       66    75   13.87    55.4  \n",
       "1    54.1   78.8       74    40     4.7    78.8  \n",
       "2 -161.76  40.06       70     1    3.36    42.8  \n",
       "3                                                \n",
       "4                                                \n",
       "5   35.38  71.21      100     0    6.38   71.21  \n",
       "6  115.35  67.73       39    44   15.21   71.01  \n",
       "7                                                \n",
       "8  148.88  53.75       62     0     8.5   53.75  \n",
       "9  122.12  18.38       65     0    2.46   18.38  "
      ]
     },
     "execution_count": 90,
     "metadata": {},
     "output_type": "execute_result"
    }
   ],
   "source": [
    "cityCountrySample.head(10)"
   ]
  },
  {
   "cell_type": "code",
   "execution_count": 112,
   "metadata": {},
   "outputs": [
    {
     "name": "stdout",
     "output_type": "stream",
     "text": [
      "Records not found in the weather database: 3\n",
      "Beginning Records: 678\n",
      "Ending Records: 675\n",
      "There are more than 500 records!   Continue with the graphs.\n"
     ]
    }
   ],
   "source": [
    "#At least 500 cities must be included for the next step of creating graphics.   Ensure there are at least 500 cities.\n",
    "\n",
    "#obtain the number of records where a city was not found\n",
    "noRecord = len(cityCountrySample[cityCountrySample['newCity'] == \"\"])\n",
    "print(\"Records not found in the weather database: \" + str(noRecord))\n",
    "\n",
    "#subtract these from the number of records at the beginning\n",
    "endRecords = (len(cityCountry)) - noRecord\n",
    "\n",
    "beginRecords = (len(cityCountry))\n",
    "\n",
    "print(\"Beginning Records: \" + str(beginRecords))\n",
    "print(\"Ending Records: \" + str(endRecords))\n",
    "\n",
    "if endRecords < 500:\n",
    "    print(\"Cannot continue.  There must be at least 500 records.  Please run from the beginning to gain a new data sample.\")\n",
    "    \n",
    "else: \n",
    "    print(\"There are more than 500 records!   Continue with the graphs.\")\n"
   ]
  },
  {
   "cell_type": "markdown",
   "metadata": {},
   "source": [
    "## Retrieve data on all cities \n",
    "Since the practice run on 10 entries works well, complete the exercise on all records."
   ]
  },
  {
   "cell_type": "markdown",
   "metadata": {},
   "source": [
    "### Convert Raw Data to DataFrame\n",
    "* Export the city data into a .csv.\n",
    "* Display the DataFrame"
   ]
  },
  {
   "cell_type": "code",
   "execution_count": null,
   "metadata": {},
   "outputs": [],
   "source": []
  },
  {
   "cell_type": "code",
   "execution_count": null,
   "metadata": {},
   "outputs": [],
   "source": []
  },
  {
   "cell_type": "markdown",
   "metadata": {},
   "source": [
    "### Plotting the Data\n",
    "* Use proper labeling of the plots using plot titles (including date of analysis) and axes labels.\n",
    "* Save the plotted figures as .pngs."
   ]
  },
  {
   "cell_type": "markdown",
   "metadata": {},
   "source": [
    "#### Latitude vs. Temperature Plot"
   ]
  },
  {
   "cell_type": "code",
   "execution_count": null,
   "metadata": {},
   "outputs": [],
   "source": []
  },
  {
   "cell_type": "markdown",
   "metadata": {},
   "source": [
    "#### Latitude vs. Humidity Plot"
   ]
  },
  {
   "cell_type": "code",
   "execution_count": null,
   "metadata": {},
   "outputs": [],
   "source": []
  },
  {
   "cell_type": "markdown",
   "metadata": {},
   "source": [
    "#### Latitude vs. Cloudiness Plot"
   ]
  },
  {
   "cell_type": "code",
   "execution_count": null,
   "metadata": {},
   "outputs": [],
   "source": []
  },
  {
   "cell_type": "markdown",
   "metadata": {},
   "source": [
    "#### Latitude vs. Wind Speed Plot"
   ]
  },
  {
   "cell_type": "code",
   "execution_count": null,
   "metadata": {},
   "outputs": [],
   "source": []
  },
  {
   "cell_type": "code",
   "execution_count": null,
   "metadata": {},
   "outputs": [],
   "source": []
  }
 ],
 "metadata": {
  "anaconda-cloud": {},
  "kernel_info": {
   "name": "python3"
  },
  "kernelspec": {
   "display_name": "Python 3",
   "language": "python",
   "name": "python3"
  },
  "language_info": {
   "codemirror_mode": {
    "name": "ipython",
    "version": 3
   },
   "file_extension": ".py",
   "mimetype": "text/x-python",
   "name": "python",
   "nbconvert_exporter": "python",
   "pygments_lexer": "ipython3",
   "version": "3.7.1"
  },
  "nteract": {
   "version": "0.12.3"
  }
 },
 "nbformat": 4,
 "nbformat_minor": 2
}
